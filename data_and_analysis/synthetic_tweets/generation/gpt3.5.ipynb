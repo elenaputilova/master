{
 "cells": [
  {
   "cell_type": "code",
   "execution_count": 1,
   "id": "fc570b8e",
   "metadata": {},
   "outputs": [],
   "source": [
    "import pandas as pd\n",
    "from tqdm import tqdm\n",
    "import json\n",
    "import time\n",
    "import openai\n",
    "import re\n",
    "from transformers import GPT2Tokenizer"
   ]
  },
  {
   "cell_type": "code",
   "execution_count": 2,
   "id": "a73e1714",
   "metadata": {},
   "outputs": [
    {
     "data": {
      "text/html": [
       "<div>\n",
       "<style scoped>\n",
       "    .dataframe tbody tr th:only-of-type {\n",
       "        vertical-align: middle;\n",
       "    }\n",
       "\n",
       "    .dataframe tbody tr th {\n",
       "        vertical-align: top;\n",
       "    }\n",
       "\n",
       "    .dataframe thead th {\n",
       "        text-align: right;\n",
       "    }\n",
       "</style>\n",
       "<table border=\"1\" class=\"dataframe\">\n",
       "  <thead>\n",
       "    <tr style=\"text-align: right;\">\n",
       "      <th></th>\n",
       "      <th>id</th>\n",
       "      <th>author_id</th>\n",
       "      <th>in_reply_to_user_id</th>\n",
       "      <th>quoted_user_id</th>\n",
       "      <th>retweeted_user_id</th>\n",
       "      <th>text</th>\n",
       "      <th>public_metrics.like_count</th>\n",
       "      <th>public_metrics.quote_count</th>\n",
       "      <th>public_metrics.reply_count</th>\n",
       "      <th>public_metrics.retweet_count</th>\n",
       "      <th>...</th>\n",
       "      <th>url</th>\n",
       "      <th>link_text</th>\n",
       "      <th>party</th>\n",
       "      <th>name</th>\n",
       "      <th>Occupation(s)</th>\n",
       "      <th>Education</th>\n",
       "      <th>Residence[5]</th>\n",
       "      <th>sentiment</th>\n",
       "      <th>age</th>\n",
       "      <th>gender</th>\n",
       "    </tr>\n",
       "  </thead>\n",
       "  <tbody>\n",
       "    <tr>\n",
       "      <th>0</th>\n",
       "      <td>1174499599181959168</td>\n",
       "      <td>262192574</td>\n",
       "      <td>NaN</td>\n",
       "      <td>NaN</td>\n",
       "      <td>NaN</td>\n",
       "      <td>We should never forget the sacrifices made by ...</td>\n",
       "      <td>22</td>\n",
       "      <td>0</td>\n",
       "      <td>0</td>\n",
       "      <td>2</td>\n",
       "      <td>...</td>\n",
       "      <td>https://www.wdam.com/2019/09/18/senator-cindy-...</td>\n",
       "      <td>MISSISSIPPI (WLOX) - U.S. Senator Cindy Hyde-S...</td>\n",
       "      <td>Republican</td>\n",
       "      <td>Cindy Hyde-Smith</td>\n",
       "      <td>Lobbyist Farmer</td>\n",
       "      <td>Copiah-Lincoln Community College (AA) Universi...</td>\n",
       "      <td>Brookhaven</td>\n",
       "      <td>Positive</td>\n",
       "      <td>65</td>\n",
       "      <td>female</td>\n",
       "    </tr>\n",
       "    <tr>\n",
       "      <th>1</th>\n",
       "      <td>1320738770543628288</td>\n",
       "      <td>15808765</td>\n",
       "      <td>NaN</td>\n",
       "      <td>NaN</td>\n",
       "      <td>NaN</td>\n",
       "      <td>It's no secret what Donald Trump and Senate Re...</td>\n",
       "      <td>1494</td>\n",
       "      <td>67</td>\n",
       "      <td>264</td>\n",
       "      <td>323</td>\n",
       "      <td>...</td>\n",
       "      <td>https://thehill.com/homenews/administration/52...</td>\n",
       "      <td>President Trump says in an interview with “60 ...</td>\n",
       "      <td>Democrat</td>\n",
       "      <td>Cory Booker</td>\n",
       "      <td>Lawyer</td>\n",
       "      <td>Stanford University (BA, MA) Queen's College, ...</td>\n",
       "      <td>Newark</td>\n",
       "      <td>Negative</td>\n",
       "      <td>55</td>\n",
       "      <td>male</td>\n",
       "    </tr>\n",
       "    <tr>\n",
       "      <th>2</th>\n",
       "      <td>998614598424068101</td>\n",
       "      <td>15745368</td>\n",
       "      <td>NaN</td>\n",
       "      <td>NaN</td>\n",
       "      <td>NaN</td>\n",
       "      <td>Some #Florida elections officials didn’t like ...</td>\n",
       "      <td>259</td>\n",
       "      <td>19</td>\n",
       "      <td>105</td>\n",
       "      <td>112</td>\n",
       "      <td>...</td>\n",
       "      <td>https://www.washingtonpost.com/news/powerpost/...</td>\n",
       "      <td>Comment on this story Comment Gift Article Sha...</td>\n",
       "      <td>Republican</td>\n",
       "      <td>Marco Rubio</td>\n",
       "      <td>Lawyer</td>\n",
       "      <td>University of Florida (BA) University of Miami...</td>\n",
       "      <td>West Miami[13]</td>\n",
       "      <td>Neutral</td>\n",
       "      <td>53</td>\n",
       "      <td>male</td>\n",
       "    </tr>\n",
       "    <tr>\n",
       "      <th>3</th>\n",
       "      <td>955084959840129024</td>\n",
       "      <td>13218102</td>\n",
       "      <td>NaN</td>\n",
       "      <td>NaN</td>\n",
       "      <td>NaN</td>\n",
       "      <td>One woman, two marches: Can women who oppose a...</td>\n",
       "      <td>14</td>\n",
       "      <td>7</td>\n",
       "      <td>61</td>\n",
       "      <td>9</td>\n",
       "      <td>...</td>\n",
       "      <td>https://www.dallasnews.com/opinion/commentary/...</td>\n",
       "      <td>Rachel Lamb saw as much fate as coincidence in...</td>\n",
       "      <td>Republican</td>\n",
       "      <td>John Cornyn</td>\n",
       "      <td>Lawyer</td>\n",
       "      <td>Trinity University (BA) St. Mary's University,...</td>\n",
       "      <td>Austin</td>\n",
       "      <td>Neutral</td>\n",
       "      <td>72</td>\n",
       "      <td>male</td>\n",
       "    </tr>\n",
       "    <tr>\n",
       "      <th>4</th>\n",
       "      <td>1255486188892422149</td>\n",
       "      <td>1080960924687704064</td>\n",
       "      <td>NaN</td>\n",
       "      <td>NaN</td>\n",
       "      <td>NaN</td>\n",
       "      <td>The coronavirus pandemic continues to highligh...</td>\n",
       "      <td>8</td>\n",
       "      <td>1</td>\n",
       "      <td>1</td>\n",
       "      <td>2</td>\n",
       "      <td>...</td>\n",
       "      <td>https://www.kfvs12.com/2020/04/29/sen-hawley-c...</td>\n",
       "      <td>WASHINGTON D.C. (KFVS) - U.S. Senators Josh Ha...</td>\n",
       "      <td>Republican</td>\n",
       "      <td>Josh Hawley</td>\n",
       "      <td>Lawyer Professor</td>\n",
       "      <td>Stanford University (BA) Yale University (JD)</td>\n",
       "      <td>Ozark</td>\n",
       "      <td>Neutral</td>\n",
       "      <td>44</td>\n",
       "      <td>male</td>\n",
       "    </tr>\n",
       "  </tbody>\n",
       "</table>\n",
       "<p>5 rows × 29 columns</p>\n",
       "</div>"
      ],
      "text/plain": [
       "                    id            author_id  in_reply_to_user_id  \\\n",
       "0  1174499599181959168            262192574                  NaN   \n",
       "1  1320738770543628288             15808765                  NaN   \n",
       "2   998614598424068101             15745368                  NaN   \n",
       "3   955084959840129024             13218102                  NaN   \n",
       "4  1255486188892422149  1080960924687704064                  NaN   \n",
       "\n",
       "   quoted_user_id  retweeted_user_id  \\\n",
       "0             NaN                NaN   \n",
       "1             NaN                NaN   \n",
       "2             NaN                NaN   \n",
       "3             NaN                NaN   \n",
       "4             NaN                NaN   \n",
       "\n",
       "                                                text  \\\n",
       "0  We should never forget the sacrifices made by ...   \n",
       "1  It's no secret what Donald Trump and Senate Re...   \n",
       "2  Some #Florida elections officials didn’t like ...   \n",
       "3  One woman, two marches: Can women who oppose a...   \n",
       "4  The coronavirus pandemic continues to highligh...   \n",
       "\n",
       "   public_metrics.like_count  public_metrics.quote_count  \\\n",
       "0                         22                           0   \n",
       "1                       1494                          67   \n",
       "2                        259                          19   \n",
       "3                         14                           7   \n",
       "4                          8                           1   \n",
       "\n",
       "   public_metrics.reply_count  public_metrics.retweet_count  ...  \\\n",
       "0                           0                             2  ...   \n",
       "1                         264                           323  ...   \n",
       "2                         105                           112  ...   \n",
       "3                          61                             9  ...   \n",
       "4                           1                             2  ...   \n",
       "\n",
       "                                                 url  \\\n",
       "0  https://www.wdam.com/2019/09/18/senator-cindy-...   \n",
       "1  https://thehill.com/homenews/administration/52...   \n",
       "2  https://www.washingtonpost.com/news/powerpost/...   \n",
       "3  https://www.dallasnews.com/opinion/commentary/...   \n",
       "4  https://www.kfvs12.com/2020/04/29/sen-hawley-c...   \n",
       "\n",
       "                                           link_text       party  \\\n",
       "0  MISSISSIPPI (WLOX) - U.S. Senator Cindy Hyde-S...  Republican   \n",
       "1  President Trump says in an interview with “60 ...    Democrat   \n",
       "2  Comment on this story Comment Gift Article Sha...  Republican   \n",
       "3  Rachel Lamb saw as much fate as coincidence in...  Republican   \n",
       "4  WASHINGTON D.C. (KFVS) - U.S. Senators Josh Ha...  Republican   \n",
       "\n",
       "               name     Occupation(s)  \\\n",
       "0  Cindy Hyde-Smith   Lobbyist Farmer   \n",
       "1       Cory Booker            Lawyer   \n",
       "2       Marco Rubio            Lawyer   \n",
       "3       John Cornyn            Lawyer   \n",
       "4       Josh Hawley  Lawyer Professor   \n",
       "\n",
       "                                           Education    Residence[5]  \\\n",
       "0  Copiah-Lincoln Community College (AA) Universi...      Brookhaven   \n",
       "1  Stanford University (BA, MA) Queen's College, ...          Newark   \n",
       "2  University of Florida (BA) University of Miami...  West Miami[13]   \n",
       "3  Trinity University (BA) St. Mary's University,...          Austin   \n",
       "4      Stanford University (BA) Yale University (JD)           Ozark   \n",
       "\n",
       "   sentiment  age  gender  \n",
       "0   Positive   65  female  \n",
       "1   Negative   55    male  \n",
       "2    Neutral   53    male  \n",
       "3    Neutral   72    male  \n",
       "4    Neutral   44    male  \n",
       "\n",
       "[5 rows x 29 columns]"
      ]
     },
     "execution_count": 2,
     "metadata": {},
     "output_type": "execute_result"
    }
   ],
   "source": [
    "df = pd.read_csv('sample.csv')\n",
    "df.head()"
   ]
  },
  {
   "cell_type": "code",
   "execution_count": 3,
   "id": "f6b3b7e1",
   "metadata": {},
   "outputs": [],
   "source": [
    "def make_prompt(party, age, news_content): \n",
    "    prompt = (\n",
    "        f\"You are a politician arguing on Twitter and a representative of the {party} party. You are {age} years old.\"\n",
    "        f\"Read the article below and write a tweet with no more than 280 characters to comment on it.\\n\\n\"\n",
    "        f\"Article:\\n{news_content}\"\n",
    "    )\n",
    "    return prompt"
   ]
  },
  {
   "cell_type": "code",
   "execution_count": 4,
   "id": "e480b1e2",
   "metadata": {},
   "outputs": [],
   "source": [
    "# Function to truncate text to fit within a token limit\n",
    "\n",
    "# initialize the tokenizer\n",
    "tokenizer = GPT2Tokenizer.from_pretrained('gpt2')\n",
    "\n",
    "def truncate_prompt(prompt, max_tokens, tokenizer):\n",
    "    tokens = tokenizer.encode(prompt)\n",
    "    if len(tokens) > max_tokens:\n",
    "        tokens = tokens[:max_tokens]\n",
    "    return tokenizer.decode(tokens)"
   ]
  },
  {
   "cell_type": "code",
   "execution_count": 6,
   "id": "19715124",
   "metadata": {},
   "outputs": [],
   "source": [
    "openai.api_base = \"https://api.openai.com/v1/\"\n",
    "#openai.api_key = \"xxx\""
   ]
  },
  {
   "cell_type": "code",
   "execution_count": 7,
   "id": "7cf63b11",
   "metadata": {},
   "outputs": [],
   "source": [
    "# save progress \n",
    "all_responses = []\n",
    "current_row_index = 0 "
   ]
  },
  {
   "cell_type": "code",
   "execution_count": 8,
   "id": "949f94c3",
   "metadata": {},
   "outputs": [
    {
     "name": "stderr",
     "output_type": "stream",
     "text": [
      "  0%|                                       | 2/10000 [00:02<3:36:30,  1.30s/it]Token indices sequence length is longer than the specified maximum sequence length for this model (4410 > 1024). Running this sequence through the model will result in indexing errors\n",
      "  1%|▌                                    | 140/10000 [03:14<3:48:39,  1.39s/it]\n"
     ]
    },
    {
     "name": "stdout",
     "output_type": "stream",
     "text": [
      "An error occurred at row 140. Error: Failed to create completion as the model generated invalid Unicode output. Unfortunately, this can happen in rare situations. Consider reviewing your prompt or reducing the temperature of your request. You can retry your request, or contact us through our help center at help.openai.com if the error persists. (Please include the request ID req_446c360a8e44e941c6d36c76ddd49600 in your message.) {\n",
      "  \"error\": {\n",
      "    \"message\": \"Failed to create completion as the model generated invalid Unicode output. Unfortunately, this can happen in rare situations. Consider reviewing your prompt or reducing the temperature of your request. You can retry your request, or contact us through our help center at help.openai.com if the error persists. (Please include the request ID req_446c360a8e44e941c6d36c76ddd49600 in your message.)\",\n",
      "    \"type\": null,\n",
      "    \"param\": null,\n",
      "    \"code\": null\n",
      "  }\n",
      "} 500 {'error': {'message': 'Failed to create completion as the model generated invalid Unicode output. Unfortunately, this can happen in rare situations. Consider reviewing your prompt or reducing the temperature of your request. You can retry your request, or contact us through our help center at help.openai.com if the error persists. (Please include the request ID req_446c360a8e44e941c6d36c76ddd49600 in your message.)', 'type': None, 'param': None, 'code': None}} {'Date': 'Thu, 13 Jun 2024 12:28:45 GMT', 'Content-Type': 'application/json', 'Content-Length': '488', 'Connection': 'keep-alive', 'openai-organization': 'rapumannheim', 'openai-processing-ms': '2024', 'openai-version': '2020-10-01', 'strict-transport-security': 'max-age=15724800; includeSubDomains', 'x-ratelimit-limit-requests': '10000', 'x-ratelimit-limit-tokens': '2000000', 'x-ratelimit-remaining-requests': '9999', 'x-ratelimit-remaining-tokens': '1999230', 'x-ratelimit-reset-requests': '6ms', 'x-ratelimit-reset-tokens': '23ms', 'x-request-id': 'req_446c360a8e44e941c6d36c76ddd49600', 'CF-Cache-Status': 'DYNAMIC', 'Server': 'cloudflare', 'CF-RAY': '89321502ff582c0f-STR', 'alt-svc': 'h3=\":443\"; ma=86400'}. Retrying...\n",
      "Completed or interrupted. Final progress saved.\n"
     ]
    },
    {
     "name": "stderr",
     "output_type": "stream",
     "text": [
      " 44%|███████████████▎                   | 4299/9860 [1:41:44<2:11:36,  1.42s/it]\n"
     ]
    },
    {
     "name": "stdout",
     "output_type": "stream",
     "text": [
      "An error occurred at row 4439. Error: Failed to create completion as the model generated invalid Unicode output. Unfortunately, this can happen in rare situations. Consider reviewing your prompt or reducing the temperature of your request. You can retry your request, or contact us through our help center at help.openai.com if the error persists. (Please include the request ID req_4afa586a08f59d989a58938ad3162765 in your message.) {\n",
      "  \"error\": {\n",
      "    \"message\": \"Failed to create completion as the model generated invalid Unicode output. Unfortunately, this can happen in rare situations. Consider reviewing your prompt or reducing the temperature of your request. You can retry your request, or contact us through our help center at help.openai.com if the error persists. (Please include the request ID req_4afa586a08f59d989a58938ad3162765 in your message.)\",\n",
      "    \"type\": null,\n",
      "    \"param\": null,\n",
      "    \"code\": null\n",
      "  }\n",
      "} 500 {'error': {'message': 'Failed to create completion as the model generated invalid Unicode output. Unfortunately, this can happen in rare situations. Consider reviewing your prompt or reducing the temperature of your request. You can retry your request, or contact us through our help center at help.openai.com if the error persists. (Please include the request ID req_4afa586a08f59d989a58938ad3162765 in your message.)', 'type': None, 'param': None, 'code': None}} {'Date': 'Thu, 13 Jun 2024 14:10:29 GMT', 'Content-Type': 'application/json', 'Content-Length': '488', 'Connection': 'keep-alive', 'openai-organization': 'rapumannheim', 'openai-processing-ms': '2562', 'openai-version': '2020-10-01', 'strict-transport-security': 'max-age=15724800; includeSubDomains', 'x-ratelimit-limit-requests': '10000', 'x-ratelimit-limit-tokens': '2000000', 'x-ratelimit-remaining-requests': '9999', 'x-ratelimit-remaining-tokens': '1998290', 'x-ratelimit-reset-requests': '6ms', 'x-ratelimit-reset-tokens': '51ms', 'x-request-id': 'req_4afa586a08f59d989a58938ad3162765', 'CF-Cache-Status': 'DYNAMIC', 'Server': 'cloudflare', 'CF-RAY': '8932aa073d672c0e-STR', 'alt-svc': 'h3=\":443\"; ma=86400'}. Retrying...\n",
      "Completed or interrupted. Final progress saved.\n"
     ]
    },
    {
     "name": "stderr",
     "output_type": "stream",
     "text": [
      " 13%|████▊                                 | 709/5561 [16:44<1:54:36,  1.42s/it]\n"
     ]
    },
    {
     "name": "stdout",
     "output_type": "stream",
     "text": [
      "An error occurred at row 5148. Error: Failed to create completion as the model generated invalid Unicode output. Unfortunately, this can happen in rare situations. Consider reviewing your prompt or reducing the temperature of your request. You can retry your request, or contact us through our help center at help.openai.com if the error persists. (Please include the request ID req_60a54731e3663932066ea1ded25cad73 in your message.) {\n",
      "  \"error\": {\n",
      "    \"message\": \"Failed to create completion as the model generated invalid Unicode output. Unfortunately, this can happen in rare situations. Consider reviewing your prompt or reducing the temperature of your request. You can retry your request, or contact us through our help center at help.openai.com if the error persists. (Please include the request ID req_60a54731e3663932066ea1ded25cad73 in your message.)\",\n",
      "    \"type\": null,\n",
      "    \"param\": null,\n",
      "    \"code\": null\n",
      "  }\n",
      "} 500 {'error': {'message': 'Failed to create completion as the model generated invalid Unicode output. Unfortunately, this can happen in rare situations. Consider reviewing your prompt or reducing the temperature of your request. You can retry your request, or contact us through our help center at help.openai.com if the error persists. (Please include the request ID req_60a54731e3663932066ea1ded25cad73 in your message.)', 'type': None, 'param': None, 'code': None}} {'Date': 'Thu, 13 Jun 2024 14:27:14 GMT', 'Content-Type': 'application/json', 'Content-Length': '488', 'Connection': 'keep-alive', 'openai-organization': 'rapumannheim', 'openai-processing-ms': '1806', 'openai-version': '2020-10-01', 'strict-transport-security': 'max-age=15724800; includeSubDomains', 'x-ratelimit-limit-requests': '10000', 'x-ratelimit-limit-tokens': '2000000', 'x-ratelimit-remaining-requests': '9999', 'x-ratelimit-remaining-tokens': '1996083', 'x-ratelimit-reset-requests': '6ms', 'x-ratelimit-reset-tokens': '117ms', 'x-request-id': 'req_60a54731e3663932066ea1ded25cad73', 'CF-Cache-Status': 'DYNAMIC', 'Server': 'cloudflare', 'CF-RAY': '8932c2949ebd2c0f-STR', 'alt-svc': 'h3=\":443\"; ma=86400'}. Retrying...\n",
      "Completed or interrupted. Final progress saved.\n"
     ]
    },
    {
     "name": "stderr",
     "output_type": "stream",
     "text": [
      "100%|█████████████████████████████████████| 4852/4852 [1:55:27<00:00,  1.43s/it]\n"
     ]
    }
   ],
   "source": [
    "# generate AI responses\n",
    "\n",
    "while current_row_index < df.shape[0]:\n",
    "    try:\n",
    "        for ind, row in tqdm(df[current_row_index:].iterrows(), total=df[current_row_index:].shape[0]):\n",
    "            prompt = make_prompt(row[\"party\"], row[\"age\"], row['link_text'])\n",
    "            \n",
    "            # check token length and truncate if necessary\n",
    "            if len(tokenizer.encode(prompt)) > 16385:  #max input tokens for the model\n",
    "                prompt = truncate_prompt(prompt, 16385, tokenizer)\n",
    "            \n",
    "            responses = openai.ChatCompletion.create(\n",
    "                model=\"gpt-3.5-turbo\",\n",
    "                messages=[{\"role\": \"user\", \"content\": prompt}],\n",
    "                max_tokens=280,\n",
    "                n=1\n",
    "            )\n",
    "            response_list = [row['id'], row['text']]\n",
    "            response_list.extend([i['message']['content'] for i in responses['choices']])\n",
    "            all_responses.append(response_list)\n",
    "            current_row_index = ind + 1  # move to the next row\n",
    "\n",
    "    except KeyboardInterrupt:\n",
    "        print(f\"Interrupted at row {current_row_index}. Saving progress...\")\n",
    "    \n",
    "    except Exception as e:\n",
    "        print(f\"An error occurred at row {current_row_index}. Error: {str(e)}. Retrying...\")\n",
    "\n",
    "        print(\"Completed or interrupted. Final progress saved.\")"
   ]
  },
  {
   "cell_type": "code",
   "execution_count": 9,
   "id": "97c00fae",
   "metadata": {},
   "outputs": [
    {
     "data": {
      "text/plain": [
       "10000"
      ]
     },
     "execution_count": 9,
     "metadata": {},
     "output_type": "execute_result"
    }
   ],
   "source": [
    "len(all_responses)"
   ]
  },
  {
   "cell_type": "code",
   "execution_count": 10,
   "id": "2c1b6403",
   "metadata": {},
   "outputs": [],
   "source": [
    "#save progress\n",
    "pd.DataFrame(all_responses, columns = ['id', 'text', 'tweet_gpt_age']).to_csv('tweet_gpt_age.csv', index=False)"
   ]
  },
  {
   "cell_type": "code",
   "execution_count": 11,
   "id": "da516e2d",
   "metadata": {},
   "outputs": [
    {
     "data": {
      "text/html": [
       "<div>\n",
       "<style scoped>\n",
       "    .dataframe tbody tr th:only-of-type {\n",
       "        vertical-align: middle;\n",
       "    }\n",
       "\n",
       "    .dataframe tbody tr th {\n",
       "        vertical-align: top;\n",
       "    }\n",
       "\n",
       "    .dataframe thead th {\n",
       "        text-align: right;\n",
       "    }\n",
       "</style>\n",
       "<table border=\"1\" class=\"dataframe\">\n",
       "  <thead>\n",
       "    <tr style=\"text-align: right;\">\n",
       "      <th></th>\n",
       "      <th>id</th>\n",
       "      <th>text</th>\n",
       "      <th>tweet_gpt_age</th>\n",
       "    </tr>\n",
       "  </thead>\n",
       "  <tbody>\n",
       "    <tr>\n",
       "      <th>0</th>\n",
       "      <td>1174499599181959168</td>\n",
       "      <td>We should never forget the sacrifices made by ...</td>\n",
       "      <td>As a proud Republican, I fully support U.S. Se...</td>\n",
       "    </tr>\n",
       "    <tr>\n",
       "      <th>1</th>\n",
       "      <td>1320738770543628288</td>\n",
       "      <td>It's no secret what Donald Trump and Senate Re...</td>\n",
       "      <td>As a Democrat, I am deeply troubled by Trump's...</td>\n",
       "    </tr>\n",
       "    <tr>\n",
       "      <th>2</th>\n",
       "      <td>998614598424068101</td>\n",
       "      <td>Some #Florida elections officials didn’t like ...</td>\n",
       "      <td>The security of our election systems is a cruc...</td>\n",
       "    </tr>\n",
       "    <tr>\n",
       "      <th>3</th>\n",
       "      <td>955084959840129024</td>\n",
       "      <td>One woman, two marches: Can women who oppose a...</td>\n",
       "      <td>Rachel Lamb exemplifies the importance of find...</td>\n",
       "    </tr>\n",
       "    <tr>\n",
       "      <th>4</th>\n",
       "      <td>1255486188892422149</td>\n",
       "      <td>The coronavirus pandemic continues to highligh...</td>\n",
       "      <td>As a Republican leader, I support efforts to u...</td>\n",
       "    </tr>\n",
       "  </tbody>\n",
       "</table>\n",
       "</div>"
      ],
      "text/plain": [
       "                    id                                               text  \\\n",
       "0  1174499599181959168  We should never forget the sacrifices made by ...   \n",
       "1  1320738770543628288  It's no secret what Donald Trump and Senate Re...   \n",
       "2   998614598424068101  Some #Florida elections officials didn’t like ...   \n",
       "3   955084959840129024  One woman, two marches: Can women who oppose a...   \n",
       "4  1255486188892422149  The coronavirus pandemic continues to highligh...   \n",
       "\n",
       "                                       tweet_gpt_age  \n",
       "0  As a proud Republican, I fully support U.S. Se...  \n",
       "1  As a Democrat, I am deeply troubled by Trump's...  \n",
       "2  The security of our election systems is a cruc...  \n",
       "3  Rachel Lamb exemplifies the importance of find...  \n",
       "4  As a Republican leader, I support efforts to u...  "
      ]
     },
     "execution_count": 11,
     "metadata": {},
     "output_type": "execute_result"
    }
   ],
   "source": [
    "df2 = pd.read_csv('tweet_gpt_age.csv')\n",
    "df2.head()"
   ]
  },
  {
   "cell_type": "markdown",
   "id": "b4a30665",
   "metadata": {},
   "source": [
    "## Labelling"
   ]
  },
  {
   "cell_type": "code",
   "execution_count": 12,
   "id": "8d5b0848",
   "metadata": {},
   "outputs": [],
   "source": [
    "#function to create prompt\n",
    "def create_prompt(tweet):\n",
    "    text = 'Classify the sentiment of the following tweet as \"Positive\", \"Negative\" or \"Neutral\" like in the examples: Tweet: \"I’m not surprised Alaska ranks at the top for new Army recruits’ preferred duty station. And once they arrive here, it’s our job to make sure they have the support they need both on and off duty\" Sentiment: Positive, Tweet: \"This would be deeply ironic if it wasn’t so absolutely infuriating\" Sentiment: Negative, Tweet: \"Given the U.S. is on the brink of recession and much of the world is facing catastrophically high energy prices, the completion of the regulatory process for the Alaska LNG Project must be a top priority for @ENERGY\" Sentiment: Neutral, Tweet: '\n",
    "    tweet = tweet \n",
    "    prompt = text + tweet + ' Sentiment:'\n",
    "    return prompt"
   ]
  },
  {
   "cell_type": "code",
   "execution_count": 14,
   "id": "c225de55",
   "metadata": {},
   "outputs": [],
   "source": [
    "# save progress \n",
    "all_responses = []\n",
    "current_row_index = 0 "
   ]
  },
  {
   "cell_type": "code",
   "execution_count": 38,
   "id": "d0419cb5",
   "metadata": {},
   "outputs": [
    {
     "name": "stderr",
     "output_type": "stream",
     "text": [
      "100%|███████████████████████████████████████████| 97/97 [00:40<00:00,  2.42it/s]"
     ]
    },
    {
     "name": "stdout",
     "output_type": "stream",
     "text": [
      "Completed or interrupted. Final progress saved.\n"
     ]
    },
    {
     "name": "stderr",
     "output_type": "stream",
     "text": [
      "\n"
     ]
    }
   ],
   "source": [
    "# generate sentiment labels for each tweet \n",
    "try:\n",
    "    while current_row_index < df2.shape[0]:\n",
    "        for ind, row in tqdm(df2[current_row_index:].iterrows(), total=df2[current_row_index:].shape[0]):\n",
    "            prompt = create_prompt(row['tweet_gpt_age'])\n",
    "            responses = openai.ChatCompletion.create(\n",
    "                model=\"gpt-3.5-turbo\",\n",
    "                messages=[{\"role\": \"user\", \"content\": prompt}],\n",
    "                max_tokens=2,\n",
    "                n=1\n",
    "            )\n",
    "            response_list = [row['id'], row['text'], row['tweet_gpt_age']]\n",
    "            response_list.extend([i['message']['content'] for i in responses['choices']])\n",
    "            all_responses.append(response_list)\n",
    "            current_row_index = ind + 1  # move to the next row\n",
    "\n",
    "except KeyboardInterrupt:\n",
    "    print(f\"Interrupted at row {current_row_index}. Saving progress...\")\n",
    "    \n",
    "except Exception as e:\n",
    "    print(f\"An error occurred at row {current_row_index}. Error: {str(e)}. Retrying...\")\n",
    "\n",
    "print(\"Completed or interrupted. Final progress saved.\")"
   ]
  },
  {
   "cell_type": "code",
   "execution_count": 39,
   "id": "13aa5ff2",
   "metadata": {},
   "outputs": [
    {
     "data": {
      "text/plain": [
       "10000"
      ]
     },
     "execution_count": 39,
     "metadata": {},
     "output_type": "execute_result"
    }
   ],
   "source": [
    "len(all_responses)"
   ]
  },
  {
   "cell_type": "code",
   "execution_count": 40,
   "id": "21f55960",
   "metadata": {},
   "outputs": [],
   "source": [
    "#save progress\n",
    "pd.DataFrame(all_responses, columns = ['id', 'text', 'tweet_gpt_age', 'label']).to_csv('tweet_gpt_age.csv', index=False)"
   ]
  },
  {
   "cell_type": "code",
   "execution_count": 41,
   "id": "507fa0ab",
   "metadata": {},
   "outputs": [
    {
     "data": {
      "text/html": [
       "<div>\n",
       "<style scoped>\n",
       "    .dataframe tbody tr th:only-of-type {\n",
       "        vertical-align: middle;\n",
       "    }\n",
       "\n",
       "    .dataframe tbody tr th {\n",
       "        vertical-align: top;\n",
       "    }\n",
       "\n",
       "    .dataframe thead th {\n",
       "        text-align: right;\n",
       "    }\n",
       "</style>\n",
       "<table border=\"1\" class=\"dataframe\">\n",
       "  <thead>\n",
       "    <tr style=\"text-align: right;\">\n",
       "      <th></th>\n",
       "      <th>id</th>\n",
       "      <th>text</th>\n",
       "      <th>tweet_gpt_age</th>\n",
       "      <th>label</th>\n",
       "    </tr>\n",
       "  </thead>\n",
       "  <tbody>\n",
       "    <tr>\n",
       "      <th>0</th>\n",
       "      <td>1174499599181959168</td>\n",
       "      <td>We should never forget the sacrifices made by ...</td>\n",
       "      <td>As a proud Republican, I fully support U.S. Se...</td>\n",
       "      <td>Positive</td>\n",
       "    </tr>\n",
       "    <tr>\n",
       "      <th>1</th>\n",
       "      <td>1320738770543628288</td>\n",
       "      <td>It's no secret what Donald Trump and Senate Re...</td>\n",
       "      <td>As a Democrat, I am deeply troubled by Trump's...</td>\n",
       "      <td>Negative</td>\n",
       "    </tr>\n",
       "    <tr>\n",
       "      <th>2</th>\n",
       "      <td>998614598424068101</td>\n",
       "      <td>Some #Florida elections officials didn’t like ...</td>\n",
       "      <td>The security of our election systems is a cruc...</td>\n",
       "      <td>Positive</td>\n",
       "    </tr>\n",
       "    <tr>\n",
       "      <th>3</th>\n",
       "      <td>955084959840129024</td>\n",
       "      <td>One woman, two marches: Can women who oppose a...</td>\n",
       "      <td>Rachel Lamb exemplifies the importance of find...</td>\n",
       "      <td>Positive</td>\n",
       "    </tr>\n",
       "    <tr>\n",
       "      <th>4</th>\n",
       "      <td>1255486188892422149</td>\n",
       "      <td>The coronavirus pandemic continues to highligh...</td>\n",
       "      <td>As a Republican leader, I support efforts to u...</td>\n",
       "      <td>Positive</td>\n",
       "    </tr>\n",
       "  </tbody>\n",
       "</table>\n",
       "</div>"
      ],
      "text/plain": [
       "                    id                                               text  \\\n",
       "0  1174499599181959168  We should never forget the sacrifices made by ...   \n",
       "1  1320738770543628288  It's no secret what Donald Trump and Senate Re...   \n",
       "2   998614598424068101  Some #Florida elections officials didn’t like ...   \n",
       "3   955084959840129024  One woman, two marches: Can women who oppose a...   \n",
       "4  1255486188892422149  The coronavirus pandemic continues to highligh...   \n",
       "\n",
       "                                       tweet_gpt_age     label  \n",
       "0  As a proud Republican, I fully support U.S. Se...  Positive  \n",
       "1  As a Democrat, I am deeply troubled by Trump's...  Negative  \n",
       "2  The security of our election systems is a cruc...  Positive  \n",
       "3  Rachel Lamb exemplifies the importance of find...  Positive  \n",
       "4  As a Republican leader, I support efforts to u...  Positive  "
      ]
     },
     "execution_count": 41,
     "metadata": {},
     "output_type": "execute_result"
    }
   ],
   "source": [
    "df2 = pd.read_csv('tweet_gpt_age.csv')\n",
    "df2.head()"
   ]
  }
 ],
 "metadata": {
  "kernelspec": {
   "display_name": "Python 3 (ipykernel)",
   "language": "python",
   "name": "python3"
  },
  "language_info": {
   "codemirror_mode": {
    "name": "ipython",
    "version": 3
   },
   "file_extension": ".py",
   "mimetype": "text/x-python",
   "name": "python",
   "nbconvert_exporter": "python",
   "pygments_lexer": "ipython3",
   "version": "3.11.5"
  }
 },
 "nbformat": 4,
 "nbformat_minor": 5
}
