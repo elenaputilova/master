{
 "cells": [
  {
   "cell_type": "code",
   "execution_count": 1,
   "id": "2c33ec33",
   "metadata": {},
   "outputs": [],
   "source": [
    "import pandas as pd\n",
    "from tqdm import tqdm\n",
    "import requests\n",
    "import re\n",
    "from transformers import GPT2Tokenizer\n",
    "import time"
   ]
  },
  {
   "cell_type": "code",
   "execution_count": 2,
   "id": "b03a2469",
   "metadata": {},
   "outputs": [],
   "source": [
    "# enter key \n",
    "#API_TOKEN=\"XXX\"\n",
    "\n",
    "API_URL = \"https://api-inference.huggingface.co/models/meta-llama/Meta-Llama-3-70B-Instruct\"\n",
    "headers = {\"Authorization\": f\"Bearer {API_TOKEN}\"}"
   ]
  },
  {
   "cell_type": "code",
   "execution_count": 3,
   "id": "f2c7c5fe",
   "metadata": {},
   "outputs": [],
   "source": [
    "# Initialize the tokenizer\n",
    "tokenizer = GPT2Tokenizer.from_pretrained(\"gpt2\")"
   ]
  },
  {
   "cell_type": "code",
   "execution_count": 4,
   "id": "7c57baa1",
   "metadata": {},
   "outputs": [
    {
     "data": {
      "text/html": [
       "<div>\n",
       "<style scoped>\n",
       "    .dataframe tbody tr th:only-of-type {\n",
       "        vertical-align: middle;\n",
       "    }\n",
       "\n",
       "    .dataframe tbody tr th {\n",
       "        vertical-align: top;\n",
       "    }\n",
       "\n",
       "    .dataframe thead th {\n",
       "        text-align: right;\n",
       "    }\n",
       "</style>\n",
       "<table border=\"1\" class=\"dataframe\">\n",
       "  <thead>\n",
       "    <tr style=\"text-align: right;\">\n",
       "      <th></th>\n",
       "      <th>id</th>\n",
       "      <th>author_id</th>\n",
       "      <th>in_reply_to_user_id</th>\n",
       "      <th>quoted_user_id</th>\n",
       "      <th>retweeted_user_id</th>\n",
       "      <th>text</th>\n",
       "      <th>public_metrics.like_count</th>\n",
       "      <th>public_metrics.quote_count</th>\n",
       "      <th>public_metrics.reply_count</th>\n",
       "      <th>public_metrics.retweet_count</th>\n",
       "      <th>...</th>\n",
       "      <th>url</th>\n",
       "      <th>link_text</th>\n",
       "      <th>party</th>\n",
       "      <th>name</th>\n",
       "      <th>Occupation(s)</th>\n",
       "      <th>Education</th>\n",
       "      <th>Residence[5]</th>\n",
       "      <th>sentiment</th>\n",
       "      <th>age</th>\n",
       "      <th>gender</th>\n",
       "    </tr>\n",
       "  </thead>\n",
       "  <tbody>\n",
       "    <tr>\n",
       "      <th>0</th>\n",
       "      <td>1174499599181959168</td>\n",
       "      <td>262192574</td>\n",
       "      <td>NaN</td>\n",
       "      <td>NaN</td>\n",
       "      <td>NaN</td>\n",
       "      <td>We should never forget the sacrifices made by ...</td>\n",
       "      <td>22</td>\n",
       "      <td>0</td>\n",
       "      <td>0</td>\n",
       "      <td>2</td>\n",
       "      <td>...</td>\n",
       "      <td>https://www.wdam.com/2019/09/18/senator-cindy-...</td>\n",
       "      <td>MISSISSIPPI (WLOX) - U.S. Senator Cindy Hyde-S...</td>\n",
       "      <td>Republican</td>\n",
       "      <td>Cindy Hyde-Smith</td>\n",
       "      <td>Lobbyist Farmer</td>\n",
       "      <td>Copiah-Lincoln Community College (AA) Universi...</td>\n",
       "      <td>Brookhaven</td>\n",
       "      <td>Positive</td>\n",
       "      <td>65</td>\n",
       "      <td>female</td>\n",
       "    </tr>\n",
       "  </tbody>\n",
       "</table>\n",
       "<p>1 rows × 29 columns</p>\n",
       "</div>"
      ],
      "text/plain": [
       "                    id  author_id  in_reply_to_user_id  quoted_user_id  \\\n",
       "0  1174499599181959168  262192574                  NaN             NaN   \n",
       "\n",
       "   retweeted_user_id                                               text  \\\n",
       "0                NaN  We should never forget the sacrifices made by ...   \n",
       "\n",
       "   public_metrics.like_count  public_metrics.quote_count  \\\n",
       "0                         22                           0   \n",
       "\n",
       "   public_metrics.reply_count  public_metrics.retweet_count  ...  \\\n",
       "0                           0                             2  ...   \n",
       "\n",
       "                                                 url  \\\n",
       "0  https://www.wdam.com/2019/09/18/senator-cindy-...   \n",
       "\n",
       "                                           link_text       party  \\\n",
       "0  MISSISSIPPI (WLOX) - U.S. Senator Cindy Hyde-S...  Republican   \n",
       "\n",
       "               name    Occupation(s)  \\\n",
       "0  Cindy Hyde-Smith  Lobbyist Farmer   \n",
       "\n",
       "                                           Education  Residence[5]  sentiment  \\\n",
       "0  Copiah-Lincoln Community College (AA) Universi...    Brookhaven   Positive   \n",
       "\n",
       "   age  gender  \n",
       "0   65  female  \n",
       "\n",
       "[1 rows x 29 columns]"
      ]
     },
     "execution_count": 4,
     "metadata": {},
     "output_type": "execute_result"
    }
   ],
   "source": [
    "df = pd.read_csv('sample.csv')"
   ]
  },
  {
   "cell_type": "code",
   "execution_count": 5,
   "id": "afb8618e",
   "metadata": {},
   "outputs": [],
   "source": [
    "# function with a prompt example \n",
    "def make_prompt(gender, party, news_content): \n",
    "    prompt = (\n",
    "        f\"You are a {gender} politician arguing on Twitter and a representative of the {party} party. \"\n",
    "        f\"Read the article below and write a tweet with no more than 280 characters to comment on it.\\n\\n\"\n",
    "        f\"Article:\\n{news_content}\"\n",
    "    )\n",
    "    return prompt"
   ]
  },
  {
   "cell_type": "code",
   "execution_count": 6,
   "id": "e15ed3f0",
   "metadata": {},
   "outputs": [],
   "source": [
    "# Convert DataFrame to list of prompts\n",
    "prompts = [\n",
    "    make_prompt(row[\"gender\"], row[\"party\"], row['link_text']) \n",
    "    for _, row in df.iterrows()\n",
    "]"
   ]
  },
  {
   "cell_type": "code",
   "execution_count": 7,
   "id": "6067b131",
   "metadata": {},
   "outputs": [],
   "source": [
    "all_responses = []"
   ]
  },
  {
   "cell_type": "code",
   "execution_count": 8,
   "id": "e96e2035",
   "metadata": {},
   "outputs": [],
   "source": [
    "current_row_index = 0"
   ]
  },
  {
   "cell_type": "code",
   "execution_count": 9,
   "id": "ea206db8",
   "metadata": {},
   "outputs": [],
   "source": [
    "# Function to handle the API request with retry logic\n",
    "def make_request_with_retry(payload):\n",
    "    retry_delay = 60  # initial delay in seconds\n",
    "    max_retries = 5\n",
    "    for attempt in range(max_retries):\n",
    "        response = requests.post(API_URL, headers=headers, json=payload)\n",
    "        if response.status_code == 200:\n",
    "            return response.json()\n",
    "        elif response.status_code == 429:  # Rate limit error\n",
    "            print(f\"Rate limit reached. Waiting for {retry_delay} seconds before retrying...\")\n",
    "            time.sleep(retry_delay)\n",
    "            retry_delay *= 2  # Exponential backoff\n",
    "        else:\n",
    "            response.raise_for_status()\n",
    "    raise Exception(f\"Failed after {max_retries} attempts. Last response: {response.text}\")"
   ]
  },
  {
   "cell_type": "code",
   "execution_count": 39,
   "id": "8c70071a",
   "metadata": {
    "scrolled": false
   },
   "outputs": [
    {
     "name": "stderr",
     "output_type": "stream",
     "text": [
      "100%|█████████████████████████████████████| 1882/1882 [1:43:12<00:00,  3.29s/it]"
     ]
    },
    {
     "name": "stdout",
     "output_type": "stream",
     "text": [
      "Completed or interrupted. Final progress saved.\n"
     ]
    },
    {
     "name": "stderr",
     "output_type": "stream",
     "text": [
      "\n"
     ]
    }
   ],
   "source": [
    "# generate AI responses\n",
    "\n",
    "try:\n",
    "    for prompt in tqdm(prompts[current_row_index:]):\n",
    "        \n",
    "        tokens = tokenizer.encode(prompt)\n",
    "        if len(tokens) > 8092:\n",
    "            tokens = tokens[:8092]\n",
    "            prompt = tokenizer.decode(tokens)\n",
    "            \n",
    "        payload = {\"inputs\": prompt}\n",
    "        \n",
    "        response = make_request_with_retry(payload)\n",
    "        \n",
    "        #response = requests.post(API_URL, headers=headers, json=payload)\n",
    "        #generated_text = response.json()\n",
    "        result = response[0]['generated_text']\n",
    "        result = result.replace(prompt, \"\")\n",
    "                \n",
    "        all_responses.append(result)\n",
    "        \n",
    "        current_row_index += 1  # move to the next row\n",
    "\n",
    "except KeyboardInterrupt:\n",
    "    print(f\"Interrupted at row {current_row_index}. Saving progress...\")\n",
    "    \n",
    "except Exception as e:\n",
    "    print(f\"An error occurred at row {current_row_index}. Error: {str(e)}. Retrying...\")\n",
    "\n",
    "print(\"Completed or interrupted. Final progress saved.\")"
   ]
  },
  {
   "cell_type": "code",
   "execution_count": 40,
   "id": "8b6cce73",
   "metadata": {},
   "outputs": [
    {
     "data": {
      "text/plain": [
       "10000"
      ]
     },
     "execution_count": 40,
     "metadata": {},
     "output_type": "execute_result"
    }
   ],
   "source": [
    "len(all_responses)"
   ]
  },
  {
   "cell_type": "code",
   "execution_count": 42,
   "id": "92271f9e",
   "metadata": {},
   "outputs": [],
   "source": [
    "# Create a DataFrame from the list\n",
    "responses_df = pd.DataFrame(all_responses, columns=[\"llama\"])\n",
    "\n",
    "# Save the DataFrame as a CSV file\n",
    "responses_df.to_csv(\"llama_gender.csv\", index=False)"
   ]
  }
 ],
 "metadata": {
  "kernelspec": {
   "display_name": "Python 3 (ipykernel)",
   "language": "python",
   "name": "python3"
  },
  "language_info": {
   "codemirror_mode": {
    "name": "ipython",
    "version": 3
   },
   "file_extension": ".py",
   "mimetype": "text/x-python",
   "name": "python",
   "nbconvert_exporter": "python",
   "pygments_lexer": "ipython3",
   "version": "3.11.5"
  }
 },
 "nbformat": 4,
 "nbformat_minor": 5
}
