{
 "cells": [
  {
   "cell_type": "code",
   "execution_count": 1,
   "id": "4d2d9fa4",
   "metadata": {},
   "outputs": [],
   "source": [
    "import pandas as pd\n",
    "from tqdm import tqdm\n",
    "import json\n",
    "import time\n",
    "import openai\n",
    "import re\n",
    "from transformers import GPT2Tokenizer"
   ]
  },
  {
   "cell_type": "code",
   "execution_count": 3,
   "id": "a4ddb1a7",
   "metadata": {},
   "outputs": [
    {
     "data": {
      "text/html": [
       "<div>\n",
       "<style scoped>\n",
       "    .dataframe tbody tr th:only-of-type {\n",
       "        vertical-align: middle;\n",
       "    }\n",
       "\n",
       "    .dataframe tbody tr th {\n",
       "        vertical-align: top;\n",
       "    }\n",
       "\n",
       "    .dataframe thead th {\n",
       "        text-align: right;\n",
       "    }\n",
       "</style>\n",
       "<table border=\"1\" class=\"dataframe\">\n",
       "  <thead>\n",
       "    <tr style=\"text-align: right;\">\n",
       "      <th></th>\n",
       "      <th>id</th>\n",
       "      <th>author_id</th>\n",
       "      <th>in_reply_to_user_id</th>\n",
       "      <th>quoted_user_id</th>\n",
       "      <th>retweeted_user_id</th>\n",
       "      <th>text</th>\n",
       "      <th>public_metrics.like_count</th>\n",
       "      <th>public_metrics.quote_count</th>\n",
       "      <th>public_metrics.reply_count</th>\n",
       "      <th>public_metrics.retweet_count</th>\n",
       "      <th>...</th>\n",
       "      <th>link_text</th>\n",
       "      <th>party</th>\n",
       "      <th>name</th>\n",
       "      <th>Occupation(s)</th>\n",
       "      <th>Education</th>\n",
       "      <th>Residence[5]</th>\n",
       "      <th>gpt_sentiment</th>\n",
       "      <th>age</th>\n",
       "      <th>gender</th>\n",
       "      <th>bert_sentiment</th>\n",
       "    </tr>\n",
       "  </thead>\n",
       "  <tbody>\n",
       "    <tr>\n",
       "      <th>0</th>\n",
       "      <td>1174499599181959168</td>\n",
       "      <td>262192574</td>\n",
       "      <td>NaN</td>\n",
       "      <td>NaN</td>\n",
       "      <td>NaN</td>\n",
       "      <td>We should never forget the sacrifices made by ...</td>\n",
       "      <td>22</td>\n",
       "      <td>0</td>\n",
       "      <td>0</td>\n",
       "      <td>2</td>\n",
       "      <td>...</td>\n",
       "      <td>MISSISSIPPI (WLOX) - U.S. Senator Cindy Hyde-S...</td>\n",
       "      <td>Republican</td>\n",
       "      <td>Cindy Hyde-Smith</td>\n",
       "      <td>Lobbyist Farmer</td>\n",
       "      <td>Copiah-Lincoln Community College (AA) Universi...</td>\n",
       "      <td>Brookhaven</td>\n",
       "      <td>positive</td>\n",
       "      <td>65</td>\n",
       "      <td>female</td>\n",
       "      <td>positive</td>\n",
       "    </tr>\n",
       "    <tr>\n",
       "      <th>1</th>\n",
       "      <td>1320738770543628288</td>\n",
       "      <td>15808765</td>\n",
       "      <td>NaN</td>\n",
       "      <td>NaN</td>\n",
       "      <td>NaN</td>\n",
       "      <td>It's no secret what Donald Trump and Senate Re...</td>\n",
       "      <td>1494</td>\n",
       "      <td>67</td>\n",
       "      <td>264</td>\n",
       "      <td>323</td>\n",
       "      <td>...</td>\n",
       "      <td>President Trump says in an interview with “60 ...</td>\n",
       "      <td>Democrat</td>\n",
       "      <td>Cory Booker</td>\n",
       "      <td>Lawyer</td>\n",
       "      <td>Stanford University (BA, MA) Queen's College, ...</td>\n",
       "      <td>Newark</td>\n",
       "      <td>negative</td>\n",
       "      <td>55</td>\n",
       "      <td>male</td>\n",
       "      <td>negative</td>\n",
       "    </tr>\n",
       "    <tr>\n",
       "      <th>2</th>\n",
       "      <td>998614598424068101</td>\n",
       "      <td>15745368</td>\n",
       "      <td>NaN</td>\n",
       "      <td>NaN</td>\n",
       "      <td>NaN</td>\n",
       "      <td>Some #Florida elections officials didn’t like ...</td>\n",
       "      <td>259</td>\n",
       "      <td>19</td>\n",
       "      <td>105</td>\n",
       "      <td>112</td>\n",
       "      <td>...</td>\n",
       "      <td>Comment on this story Comment Gift Article Sha...</td>\n",
       "      <td>Republican</td>\n",
       "      <td>Marco Rubio</td>\n",
       "      <td>Lawyer</td>\n",
       "      <td>University of Florida (BA) University of Miami...</td>\n",
       "      <td>West Miami[13]</td>\n",
       "      <td>neutral</td>\n",
       "      <td>53</td>\n",
       "      <td>male</td>\n",
       "      <td>negative</td>\n",
       "    </tr>\n",
       "    <tr>\n",
       "      <th>3</th>\n",
       "      <td>955084959840129024</td>\n",
       "      <td>13218102</td>\n",
       "      <td>NaN</td>\n",
       "      <td>NaN</td>\n",
       "      <td>NaN</td>\n",
       "      <td>One woman, two marches: Can women who oppose a...</td>\n",
       "      <td>14</td>\n",
       "      <td>7</td>\n",
       "      <td>61</td>\n",
       "      <td>9</td>\n",
       "      <td>...</td>\n",
       "      <td>Rachel Lamb saw as much fate as coincidence in...</td>\n",
       "      <td>Republican</td>\n",
       "      <td>John Cornyn</td>\n",
       "      <td>Lawyer</td>\n",
       "      <td>Trinity University (BA) St. Mary's University,...</td>\n",
       "      <td>Austin</td>\n",
       "      <td>neutral</td>\n",
       "      <td>72</td>\n",
       "      <td>male</td>\n",
       "      <td>neutral</td>\n",
       "    </tr>\n",
       "    <tr>\n",
       "      <th>4</th>\n",
       "      <td>1255486188892422149</td>\n",
       "      <td>1080960924687704064</td>\n",
       "      <td>NaN</td>\n",
       "      <td>NaN</td>\n",
       "      <td>NaN</td>\n",
       "      <td>The coronavirus pandemic continues to highligh...</td>\n",
       "      <td>8</td>\n",
       "      <td>1</td>\n",
       "      <td>1</td>\n",
       "      <td>2</td>\n",
       "      <td>...</td>\n",
       "      <td>WASHINGTON D.C. (KFVS) - U.S. Senators Josh Ha...</td>\n",
       "      <td>Republican</td>\n",
       "      <td>Josh Hawley</td>\n",
       "      <td>Lawyer Professor</td>\n",
       "      <td>Stanford University (BA) Yale University (JD)</td>\n",
       "      <td>Ozark</td>\n",
       "      <td>neutral</td>\n",
       "      <td>44</td>\n",
       "      <td>male</td>\n",
       "      <td>negative</td>\n",
       "    </tr>\n",
       "  </tbody>\n",
       "</table>\n",
       "<p>5 rows × 30 columns</p>\n",
       "</div>"
      ],
      "text/plain": [
       "                    id            author_id  in_reply_to_user_id  \\\n",
       "0  1174499599181959168            262192574                  NaN   \n",
       "1  1320738770543628288             15808765                  NaN   \n",
       "2   998614598424068101             15745368                  NaN   \n",
       "3   955084959840129024             13218102                  NaN   \n",
       "4  1255486188892422149  1080960924687704064                  NaN   \n",
       "\n",
       "   quoted_user_id  retweeted_user_id  \\\n",
       "0             NaN                NaN   \n",
       "1             NaN                NaN   \n",
       "2             NaN                NaN   \n",
       "3             NaN                NaN   \n",
       "4             NaN                NaN   \n",
       "\n",
       "                                                text  \\\n",
       "0  We should never forget the sacrifices made by ...   \n",
       "1  It's no secret what Donald Trump and Senate Re...   \n",
       "2  Some #Florida elections officials didn’t like ...   \n",
       "3  One woman, two marches: Can women who oppose a...   \n",
       "4  The coronavirus pandemic continues to highligh...   \n",
       "\n",
       "   public_metrics.like_count  public_metrics.quote_count  \\\n",
       "0                         22                           0   \n",
       "1                       1494                          67   \n",
       "2                        259                          19   \n",
       "3                         14                           7   \n",
       "4                          8                           1   \n",
       "\n",
       "   public_metrics.reply_count  public_metrics.retweet_count  ...  \\\n",
       "0                           0                             2  ...   \n",
       "1                         264                           323  ...   \n",
       "2                         105                           112  ...   \n",
       "3                          61                             9  ...   \n",
       "4                           1                             2  ...   \n",
       "\n",
       "                                           link_text       party  \\\n",
       "0  MISSISSIPPI (WLOX) - U.S. Senator Cindy Hyde-S...  Republican   \n",
       "1  President Trump says in an interview with “60 ...    Democrat   \n",
       "2  Comment on this story Comment Gift Article Sha...  Republican   \n",
       "3  Rachel Lamb saw as much fate as coincidence in...  Republican   \n",
       "4  WASHINGTON D.C. (KFVS) - U.S. Senators Josh Ha...  Republican   \n",
       "\n",
       "               name     Occupation(s)  \\\n",
       "0  Cindy Hyde-Smith   Lobbyist Farmer   \n",
       "1       Cory Booker            Lawyer   \n",
       "2       Marco Rubio            Lawyer   \n",
       "3       John Cornyn            Lawyer   \n",
       "4       Josh Hawley  Lawyer Professor   \n",
       "\n",
       "                                           Education    Residence[5]  \\\n",
       "0  Copiah-Lincoln Community College (AA) Universi...      Brookhaven   \n",
       "1  Stanford University (BA, MA) Queen's College, ...          Newark   \n",
       "2  University of Florida (BA) University of Miami...  West Miami[13]   \n",
       "3  Trinity University (BA) St. Mary's University,...          Austin   \n",
       "4      Stanford University (BA) Yale University (JD)           Ozark   \n",
       "\n",
       "   gpt_sentiment  age  gender bert_sentiment  \n",
       "0       positive   65  female       positive  \n",
       "1       negative   55    male       negative  \n",
       "2        neutral   53    male       negative  \n",
       "3        neutral   72    male        neutral  \n",
       "4        neutral   44    male       negative  \n",
       "\n",
       "[5 rows x 30 columns]"
      ]
     },
     "execution_count": 3,
     "metadata": {},
     "output_type": "execute_result"
    }
   ],
   "source": [
    "df = pd.read_csv('sample.csv')\n",
    "df.head()"
   ]
  },
  {
   "cell_type": "code",
   "execution_count": 4,
   "id": "51d9814b",
   "metadata": {},
   "outputs": [],
   "source": [
    "# Function to truncate text to fit within a token limit\n",
    "\n",
    "# initialize the tokenizer\n",
    "tokenizer = GPT2Tokenizer.from_pretrained('gpt2')\n",
    "\n",
    "def truncate_prompt(prompt, max_tokens, tokenizer):\n",
    "    tokens = tokenizer.encode(prompt)\n",
    "    if len(tokens) > max_tokens:\n",
    "        tokens = tokens[:max_tokens]\n",
    "    return tokenizer.decode(tokens)"
   ]
  },
  {
   "cell_type": "code",
   "execution_count": 5,
   "id": "816a0948",
   "metadata": {},
   "outputs": [],
   "source": [
    "#example function to create a prompt \n",
    "def make_prompt(name, news_content): \n",
    "    prompt = (\n",
    "        f\"You are a U.S. senator {name} arguing on Twitter.\"\n",
    "        f\"Read the article below and write a tweet with no more than 280 characters to comment on it.\\n\\n\"\n",
    "        f\"Article:\\n{news_content}\"\n",
    "    )\n",
    "    return prompt"
   ]
  },
  {
   "cell_type": "code",
   "execution_count": 33,
   "id": "55b01cae",
   "metadata": {},
   "outputs": [],
   "source": [
    "openai.api_base = \"https://api.openai.com/v1/\"\n",
    "#openai.api_key = \"xxx\""
   ]
  },
  {
   "cell_type": "code",
   "execution_count": 11,
   "id": "4097810c",
   "metadata": {},
   "outputs": [],
   "source": [
    "# save progress \n",
    "all_responses = []\n",
    "current_row_index = 0 # function to create prompt"
   ]
  },
  {
   "cell_type": "code",
   "execution_count": 34,
   "id": "63ec82f4",
   "metadata": {},
   "outputs": [
    {
     "name": "stderr",
     "output_type": "stream",
     "text": [
      "100%|███████████████████████████████████████| 2131/2131 [34:53<00:00,  1.02it/s]"
     ]
    },
    {
     "name": "stdout",
     "output_type": "stream",
     "text": [
      "Completed or interrupted. Final progress saved.\n"
     ]
    },
    {
     "name": "stderr",
     "output_type": "stream",
     "text": [
      "\n"
     ]
    }
   ],
   "source": [
    "# generate sentiment labels for each tweet \n",
    "try:\n",
    "    while current_row_index < df.shape[0]:\n",
    "        for ind, row in tqdm(df[current_row_index:].iterrows(), total=df[current_row_index:].shape[0]):\n",
    "            prompt = make_prompt(row['name'], row['text'])\n",
    "            responses = openai.ChatCompletion.create(\n",
    "                model=\"gpt-4o\",\n",
    "                messages=[{\"role\": \"user\", \"content\": prompt}],\n",
    "                max_tokens=100,\n",
    "                n=1\n",
    "            )\n",
    "            response_list = [row['id'], row['text']]\n",
    "            response_list.extend([i['message']['content'] for i in responses['choices']])\n",
    "            all_responses.append(response_list)\n",
    "            current_row_index = ind + 1  # move to the next row\n",
    "\n",
    "except KeyboardInterrupt:\n",
    "    print(f\"Interrupted at row {current_row_index}. Saving progress...\")\n",
    "    \n",
    "except Exception as e:\n",
    "    print(f\"An error occurred at row {current_row_index}. Error: {str(e)}. Retrying...\")\n",
    "\n",
    "print(\"Completed or interrupted. Final progress saved.\")"
   ]
  },
  {
   "cell_type": "code",
   "execution_count": 35,
   "id": "927e7781",
   "metadata": {},
   "outputs": [
    {
     "data": {
      "text/plain": [
       "10000"
      ]
     },
     "execution_count": 35,
     "metadata": {},
     "output_type": "execute_result"
    }
   ],
   "source": [
    "len(all_responses)"
   ]
  },
  {
   "cell_type": "code",
   "execution_count": 36,
   "id": "7e3360f7",
   "metadata": {},
   "outputs": [],
   "source": [
    "#save progress\n",
    "pd.DataFrame(all_responses, columns = ['id', 'text', 'gpt4_name']).to_csv('gpt4_name.csv', index=False)"
   ]
  },
  {
   "cell_type": "code",
   "execution_count": 39,
   "id": "f9efe4a0",
   "metadata": {},
   "outputs": [
    {
     "data": {
      "text/html": [
       "<div>\n",
       "<style scoped>\n",
       "    .dataframe tbody tr th:only-of-type {\n",
       "        vertical-align: middle;\n",
       "    }\n",
       "\n",
       "    .dataframe tbody tr th {\n",
       "        vertical-align: top;\n",
       "    }\n",
       "\n",
       "    .dataframe thead th {\n",
       "        text-align: right;\n",
       "    }\n",
       "</style>\n",
       "<table border=\"1\" class=\"dataframe\">\n",
       "  <thead>\n",
       "    <tr style=\"text-align: right;\">\n",
       "      <th></th>\n",
       "      <th>id</th>\n",
       "      <th>text</th>\n",
       "      <th>gpt4_name</th>\n",
       "    </tr>\n",
       "  </thead>\n",
       "  <tbody>\n",
       "    <tr>\n",
       "      <th>0</th>\n",
       "      <td>1174499599181959168</td>\n",
       "      <td>We should never forget the sacrifices made by ...</td>\n",
       "      <td>We must always honor the immense sacrifices of...</td>\n",
       "    </tr>\n",
       "    <tr>\n",
       "      <th>1</th>\n",
       "      <td>1320738770543628288</td>\n",
       "      <td>It's no secret what Donald Trump and Senate Re...</td>\n",
       "      <td>It's crystal clear: Donald Trump and Senate Re...</td>\n",
       "    </tr>\n",
       "    <tr>\n",
       "      <th>2</th>\n",
       "      <td>998614598424068101</td>\n",
       "      <td>Some #Florida elections officials didn’t like ...</td>\n",
       "      <td>.@FloridaElections didn't agree with me before...</td>\n",
       "    </tr>\n",
       "    <tr>\n",
       "      <th>3</th>\n",
       "      <td>955084959840129024</td>\n",
       "      <td>One woman, two marches: Can women who oppose a...</td>\n",
       "      <td>Empowering women means respecting diverse view...</td>\n",
       "    </tr>\n",
       "    <tr>\n",
       "      <th>4</th>\n",
       "      <td>1255486188892422149</td>\n",
       "      <td>The coronavirus pandemic continues to highligh...</td>\n",
       "      <td>America's food supply is in crisis. The closin...</td>\n",
       "    </tr>\n",
       "  </tbody>\n",
       "</table>\n",
       "</div>"
      ],
      "text/plain": [
       "                    id                                               text  \\\n",
       "0  1174499599181959168  We should never forget the sacrifices made by ...   \n",
       "1  1320738770543628288  It's no secret what Donald Trump and Senate Re...   \n",
       "2   998614598424068101  Some #Florida elections officials didn’t like ...   \n",
       "3   955084959840129024  One woman, two marches: Can women who oppose a...   \n",
       "4  1255486188892422149  The coronavirus pandemic continues to highligh...   \n",
       "\n",
       "                                           gpt4_name  \n",
       "0  We must always honor the immense sacrifices of...  \n",
       "1  It's crystal clear: Donald Trump and Senate Re...  \n",
       "2  .@FloridaElections didn't agree with me before...  \n",
       "3  Empowering women means respecting diverse view...  \n",
       "4  America's food supply is in crisis. The closin...  "
      ]
     },
     "execution_count": 39,
     "metadata": {},
     "output_type": "execute_result"
    }
   ],
   "source": [
    "df2 = pd.read_csv('gpt4_name.csv')\n",
    "df2.head()"
   ]
  },
  {
   "cell_type": "markdown",
   "id": "32543844",
   "metadata": {},
   "source": [
    "## Labelling"
   ]
  },
  {
   "cell_type": "code",
   "execution_count": 16,
   "id": "cff46e56",
   "metadata": {},
   "outputs": [],
   "source": [
    "#example function to create a prompt \n",
    "def create_prompt(tweet):\n",
    "    text = 'Classify the sentiment of the following tweet as \"Positive\", \"Negative\" or \"Neutral\" like in the examples: Tweet: \"I’m not surprised Alaska ranks at the top for new Army recruits’ preferred duty station. And once they arrive here, it’s our job to make sure they have the support they need both on and off duty\" Sentiment: Positive, Tweet: \"This would be deeply ironic if it wasn’t so absolutely infuriating\" Sentiment: Negative, Tweet: \"Given the U.S. is on the brink of recession and much of the world is facing catastrophically high energy prices, the completion of the regulatory process for the Alaska LNG Project must be a top priority for @ENERGY\" Sentiment: Neutral, Tweet: '\n",
    "    tweet = tweet \n",
    "    prompt = text + tweet + ' Sentiment:'\n",
    "    return prompt"
   ]
  },
  {
   "cell_type": "code",
   "execution_count": 18,
   "id": "65a7edb8",
   "metadata": {},
   "outputs": [],
   "source": [
    "# save progress \n",
    "all_responses = []\n",
    "current_row_index = 0 "
   ]
  },
  {
   "cell_type": "code",
   "execution_count": 36,
   "id": "0484ae28",
   "metadata": {},
   "outputs": [
    {
     "name": "stderr",
     "output_type": "stream",
     "text": [
      "100%|█████████████████████████████████████████| 397/397 [02:47<00:00,  2.37it/s]"
     ]
    },
    {
     "name": "stdout",
     "output_type": "stream",
     "text": [
      "Completed or interrupted. Final progress saved.\n"
     ]
    },
    {
     "name": "stderr",
     "output_type": "stream",
     "text": [
      "\n"
     ]
    }
   ],
   "source": [
    "# generate sentiment labels for each tweet \n",
    "try:\n",
    "    while current_row_index < df2.shape[0]:\n",
    "        for ind, row in tqdm(df2[current_row_index:].iterrows(), total=df2[current_row_index:].shape[0]):\n",
    "            prompt = create_prompt(str(row['tweet_name4']))\n",
    "            responses = openai.ChatCompletion.create(\n",
    "                model=\"gpt-3.5-turbo\",\n",
    "                messages=[{\"role\": \"user\", \"content\": prompt}],\n",
    "                max_tokens=2,\n",
    "                n=1\n",
    "            )\n",
    "            response_list = [row['id'], row['text'], row['tweet_name4']]\n",
    "            response_list.extend([i['message']['content'] for i in responses['choices']])\n",
    "            all_responses.append(response_list)\n",
    "            current_row_index = ind + 1  # move to the next row\n",
    "\n",
    "except KeyboardInterrupt:\n",
    "    print(f\"Interrupted at row {current_row_index}. Saving progress...\")\n",
    "    \n",
    "except Exception as e:\n",
    "    print(f\"An error occurred at row {current_row_index}. Error: {str(e)}. Retrying...\")\n",
    "\n",
    "print(\"Completed or interrupted. Final progress saved.\")"
   ]
  },
  {
   "cell_type": "code",
   "execution_count": 37,
   "id": "d6282d6c",
   "metadata": {},
   "outputs": [
    {
     "data": {
      "text/plain": [
       "10000"
      ]
     },
     "execution_count": 37,
     "metadata": {},
     "output_type": "execute_result"
    }
   ],
   "source": [
    "len(all_responses)"
   ]
  },
  {
   "cell_type": "code",
   "execution_count": 38,
   "id": "3c1e16a9",
   "metadata": {},
   "outputs": [],
   "source": [
    "#save progress\n",
    "pd.DataFrame(all_responses, columns = ['id', 'text', 'tweet_name4', 'label']).to_csv('tweet_name4.csv', index=False)"
   ]
  }
 ],
 "metadata": {
  "kernelspec": {
   "display_name": "Python 3 (ipykernel)",
   "language": "python",
   "name": "python3"
  },
  "language_info": {
   "codemirror_mode": {
    "name": "ipython",
    "version": 3
   },
   "file_extension": ".py",
   "mimetype": "text/x-python",
   "name": "python",
   "nbconvert_exporter": "python",
   "pygments_lexer": "ipython3",
   "version": "3.11.5"
  }
 },
 "nbformat": 4,
 "nbformat_minor": 5
}
