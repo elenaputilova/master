{
 "cells": [
  {
   "cell_type": "code",
   "execution_count": 2,
   "id": "ffbf1516",
   "metadata": {},
   "outputs": [],
   "source": [
    "import pandas as pd\n",
    "from tqdm import tqdm\n",
    "from transformers import pipeline\n",
    "\n",
    "# Set pandas to display all columns\n",
    "pd.set_option('display.max_columns', None)"
   ]
  },
  {
   "cell_type": "code",
   "execution_count": 91,
   "id": "95789939",
   "metadata": {},
   "outputs": [
    {
     "data": {
      "text/html": [
       "<div>\n",
       "<style scoped>\n",
       "    .dataframe tbody tr th:only-of-type {\n",
       "        vertical-align: middle;\n",
       "    }\n",
       "\n",
       "    .dataframe tbody tr th {\n",
       "        vertical-align: top;\n",
       "    }\n",
       "\n",
       "    .dataframe thead th {\n",
       "        text-align: right;\n",
       "    }\n",
       "</style>\n",
       "<table border=\"1\" class=\"dataframe\">\n",
       "  <thead>\n",
       "    <tr style=\"text-align: right;\">\n",
       "      <th></th>\n",
       "      <th>id</th>\n",
       "      <th>author_id</th>\n",
       "      <th>in_reply_to_user_id</th>\n",
       "      <th>quoted_user_id</th>\n",
       "      <th>retweeted_user_id</th>\n",
       "      <th>text</th>\n",
       "      <th>public_metrics.like_count</th>\n",
       "      <th>public_metrics.quote_count</th>\n",
       "      <th>public_metrics.reply_count</th>\n",
       "      <th>public_metrics.retweet_count</th>\n",
       "      <th>entities.hashtags</th>\n",
       "      <th>entities.mentions</th>\n",
       "      <th>author.username</th>\n",
       "      <th>author.name</th>\n",
       "      <th>author.description</th>\n",
       "      <th>author.location</th>\n",
       "      <th>author.public_metrics.followers_count</th>\n",
       "      <th>author.public_metrics.following_count</th>\n",
       "      <th>author.public_metrics.tweet_count</th>\n",
       "      <th>url</th>\n",
       "      <th>link_text</th>\n",
       "      <th>party</th>\n",
       "      <th>name</th>\n",
       "      <th>Occupation(s)</th>\n",
       "      <th>Education</th>\n",
       "      <th>Residence[5]</th>\n",
       "      <th>gpt_sentiment</th>\n",
       "      <th>age</th>\n",
       "      <th>gender</th>\n",
       "      <th>bert_sentiment</th>\n",
       "      <th>no_polit</th>\n",
       "      <th>no_pol_gpt_label</th>\n",
       "      <th>no_polit_bert_class</th>\n",
       "      <th>llama_using</th>\n",
       "      <th>llama_arguing</th>\n",
       "      <th>llama_name</th>\n",
       "      <th>llama_gender</th>\n",
       "      <th>llama_edu</th>\n",
       "      <th>llama_age</th>\n",
       "    </tr>\n",
       "  </thead>\n",
       "  <tbody>\n",
       "    <tr>\n",
       "      <th>0</th>\n",
       "      <td>1174499599181958912</td>\n",
       "      <td>262192574</td>\n",
       "      <td>NaN</td>\n",
       "      <td>NaN</td>\n",
       "      <td>NaN</td>\n",
       "      <td>We should never forget the sacrifices made by ...</td>\n",
       "      <td>22</td>\n",
       "      <td>0</td>\n",
       "      <td>0</td>\n",
       "      <td>2</td>\n",
       "      <td>NaN</td>\n",
       "      <td>NaN</td>\n",
       "      <td>cindyhydesmith</td>\n",
       "      <td>Cindy Hyde-Smith</td>\n",
       "      <td>Lifelong conservative proudly fighting for the...</td>\n",
       "      <td>Mississippi, USA</td>\n",
       "      <td>20222</td>\n",
       "      <td>199</td>\n",
       "      <td>2232</td>\n",
       "      <td>https://www.wdam.com/2019/09/18/senator-cindy-...</td>\n",
       "      <td>MISSISSIPPI (WLOX) - U.S. Senator Cindy Hyde-S...</td>\n",
       "      <td>Republican</td>\n",
       "      <td>Cindy Hyde-Smith</td>\n",
       "      <td>Lobbyist Farmer</td>\n",
       "      <td>Copiah-Lincoln Community College (AA) Universi...</td>\n",
       "      <td>Brookhaven</td>\n",
       "      <td>positive</td>\n",
       "      <td>65</td>\n",
       "      <td>female</td>\n",
       "      <td>positive</td>\n",
       "      <td>\"Kudos to @SenHydeSmith for introducing Gold S...</td>\n",
       "      <td>positive</td>\n",
       "      <td>positive</td>\n",
       "      <td>NaN</td>\n",
       "      <td>NaN</td>\n",
       "      <td>NaN</td>\n",
       "      <td>\"Proud to see my colleague @SenHydeSmith leadi...</td>\n",
       "      <td>NaN</td>\n",
       "      <td>NaN</td>\n",
       "    </tr>\n",
       "    <tr>\n",
       "      <th>1</th>\n",
       "      <td>1320738770543628032</td>\n",
       "      <td>15808765</td>\n",
       "      <td>NaN</td>\n",
       "      <td>NaN</td>\n",
       "      <td>NaN</td>\n",
       "      <td>It's no secret what Donald Trump and Senate Re...</td>\n",
       "      <td>1494</td>\n",
       "      <td>67</td>\n",
       "      <td>264</td>\n",
       "      <td>323</td>\n",
       "      <td>NaN</td>\n",
       "      <td>NaN</td>\n",
       "      <td>CoryBooker</td>\n",
       "      <td>Cory Booker</td>\n",
       "      <td>U.S. Senator from New Jersey. Most tweets (and...</td>\n",
       "      <td>Newark, NJ</td>\n",
       "      <td>4835171</td>\n",
       "      <td>85102</td>\n",
       "      <td>67749</td>\n",
       "      <td>https://thehill.com/homenews/administration/52...</td>\n",
       "      <td>President Trump says in an interview with “60 ...</td>\n",
       "      <td>Democrat</td>\n",
       "      <td>Cory Booker</td>\n",
       "      <td>Lawyer</td>\n",
       "      <td>Stanford University (BA, MA) Queen's College, ...</td>\n",
       "      <td>Newark</td>\n",
       "      <td>negative</td>\n",
       "      <td>55</td>\n",
       "      <td>male</td>\n",
       "      <td>negative</td>\n",
       "      <td># #60Minutes #TrumpCareCant believe @realDonal...</td>\n",
       "      <td>negative</td>\n",
       "      <td>negative</td>\n",
       "      <td>Biden has vowed to protect the law and even e...</td>\n",
       "      <td>NaN</td>\n",
       "      <td>Biden also emphasized his commitment to build...</td>\n",
       "      <td>Biden has vowed to build on ObamaCare and exp...</td>\n",
       "      <td>Biden has vowed to protect and strengthen the...</td>\n",
       "      <td>Biden has repeatedly made the case that Trump...</td>\n",
       "    </tr>\n",
       "  </tbody>\n",
       "</table>\n",
       "</div>"
      ],
      "text/plain": [
       "                    id  author_id  in_reply_to_user_id  quoted_user_id  \\\n",
       "0  1174499599181958912  262192574                  NaN             NaN   \n",
       "1  1320738770543628032   15808765                  NaN             NaN   \n",
       "\n",
       "   retweeted_user_id                                               text  \\\n",
       "0                NaN  We should never forget the sacrifices made by ...   \n",
       "1                NaN  It's no secret what Donald Trump and Senate Re...   \n",
       "\n",
       "   public_metrics.like_count  public_metrics.quote_count  \\\n",
       "0                         22                           0   \n",
       "1                       1494                          67   \n",
       "\n",
       "   public_metrics.reply_count  public_metrics.retweet_count entities.hashtags  \\\n",
       "0                           0                             2               NaN   \n",
       "1                         264                           323               NaN   \n",
       "\n",
       "  entities.mentions author.username       author.name  \\\n",
       "0               NaN  cindyhydesmith  Cindy Hyde-Smith   \n",
       "1               NaN      CoryBooker       Cory Booker   \n",
       "\n",
       "                                  author.description   author.location  \\\n",
       "0  Lifelong conservative proudly fighting for the...  Mississippi, USA   \n",
       "1  U.S. Senator from New Jersey. Most tweets (and...        Newark, NJ   \n",
       "\n",
       "   author.public_metrics.followers_count  \\\n",
       "0                                  20222   \n",
       "1                                4835171   \n",
       "\n",
       "   author.public_metrics.following_count  author.public_metrics.tweet_count  \\\n",
       "0                                    199                               2232   \n",
       "1                                  85102                              67749   \n",
       "\n",
       "                                                 url  \\\n",
       "0  https://www.wdam.com/2019/09/18/senator-cindy-...   \n",
       "1  https://thehill.com/homenews/administration/52...   \n",
       "\n",
       "                                           link_text       party  \\\n",
       "0  MISSISSIPPI (WLOX) - U.S. Senator Cindy Hyde-S...  Republican   \n",
       "1  President Trump says in an interview with “60 ...    Democrat   \n",
       "\n",
       "               name    Occupation(s)  \\\n",
       "0  Cindy Hyde-Smith  Lobbyist Farmer   \n",
       "1       Cory Booker           Lawyer   \n",
       "\n",
       "                                           Education Residence[5]  \\\n",
       "0  Copiah-Lincoln Community College (AA) Universi...   Brookhaven   \n",
       "1  Stanford University (BA, MA) Queen's College, ...       Newark   \n",
       "\n",
       "  gpt_sentiment  age  gender bert_sentiment  \\\n",
       "0      positive   65  female       positive   \n",
       "1      negative   55    male       negative   \n",
       "\n",
       "                                            no_polit no_pol_gpt_label  \\\n",
       "0  \"Kudos to @SenHydeSmith for introducing Gold S...         positive   \n",
       "1  # #60Minutes #TrumpCareCant believe @realDonal...         negative   \n",
       "\n",
       "  no_polit_bert_class                                        llama_using  \\\n",
       "0            positive                                                NaN   \n",
       "1            negative   Biden has vowed to protect the law and even e...   \n",
       "\n",
       "  llama_arguing                                         llama_name  \\\n",
       "0           NaN                                                NaN   \n",
       "1           NaN   Biden also emphasized his commitment to build...   \n",
       "\n",
       "                                        llama_gender  \\\n",
       "0  \"Proud to see my colleague @SenHydeSmith leadi...   \n",
       "1   Biden has vowed to build on ObamaCare and exp...   \n",
       "\n",
       "                                           llama_edu  \\\n",
       "0                                                NaN   \n",
       "1   Biden has vowed to protect and strengthen the...   \n",
       "\n",
       "                                           llama_age  \n",
       "0                                                NaN  \n",
       "1   Biden has repeatedly made the case that Trump...  "
      ]
     },
     "execution_count": 91,
     "metadata": {},
     "output_type": "execute_result"
    }
   ],
   "source": [
    "df = pd.read_excel('llama_merged.xlsx')\n",
    "df.head(2)"
   ]
  },
  {
   "cell_type": "code",
   "execution_count": 49,
   "id": "f11caf99",
   "metadata": {
    "scrolled": true
   },
   "outputs": [
    {
     "name": "stderr",
     "output_type": "stream",
     "text": [
      "Some weights of the model checkpoint at cardiffnlp/twitter-roberta-base-sentiment-latest were not used when initializing RobertaForSequenceClassification: ['roberta.pooler.dense.bias', 'roberta.pooler.dense.weight']\n",
      "- This IS expected if you are initializing RobertaForSequenceClassification from the checkpoint of a model trained on another task or with another architecture (e.g. initializing a BertForSequenceClassification model from a BertForPreTraining model).\n",
      "- This IS NOT expected if you are initializing RobertaForSequenceClassification from the checkpoint of a model that you expect to be exactly identical (initializing a BertForSequenceClassification model from a BertForSequenceClassification model).\n"
     ]
    }
   ],
   "source": [
    "# set pipeline for sentiment labelling\n",
    "sentiment_pipeline = pipeline(model=\"cardiffnlp/twitter-roberta-base-sentiment-latest\", tokenizer=\"cardiffnlp/twitter-roberta-base-sentiment-latest\")"
   ]
  },
  {
   "cell_type": "code",
   "execution_count": 127,
   "id": "349b7f7e",
   "metadata": {},
   "outputs": [
    {
     "name": "stderr",
     "output_type": "stream",
     "text": [
      "100%|█████████████████████████████████████| 10000/10000 [08:13<00:00, 20.27it/s]\n"
     ]
    }
   ],
   "source": [
    "df['llama_age'] = df['llama_age'].astype(str)  #llama_age\n",
    "\n",
    "# Enable tqdm for pandas\n",
    "tqdm.pandas()\n",
    "\n",
    "# apply sentiment classification and create 'BERT_class' column for Twitter DataFrame\n",
    "df['bert_class1'] = df['llama_age'].progress_apply(lambda x: sentiment_pipeline(x)[0]['label'])"
   ]
  },
  {
   "cell_type": "code",
   "execution_count": 128,
   "id": "37c67cc8",
   "metadata": {},
   "outputs": [
    {
     "name": "stderr",
     "output_type": "stream",
     "text": [
      "100%|█████████████████████████████████████| 10000/10000 [08:33<00:00, 19.49it/s]\n"
     ]
    }
   ],
   "source": [
    "# apply sentiment classification and create 'BERT_class' column for Twitter DataFrame\n",
    "df['bert_class2'] = df['llama_age'].progress_apply(lambda x: sentiment_pipeline(x)[0]['label'])"
   ]
  },
  {
   "cell_type": "code",
   "execution_count": 129,
   "id": "b945a7ea",
   "metadata": {},
   "outputs": [
    {
     "name": "stderr",
     "output_type": "stream",
     "text": [
      "100%|█████████████████████████████████████| 10000/10000 [08:53<00:00, 18.73it/s]\n"
     ]
    }
   ],
   "source": [
    "# apply sentiment classification and create 'BERT_class' column for Twitter DataFrame\n",
    "df['bert_class3'] = df['llama_age'].progress_apply(lambda x: sentiment_pipeline(x)[0]['label'])"
   ]
  },
  {
   "cell_type": "code",
   "execution_count": 115,
   "id": "bba722b0",
   "metadata": {},
   "outputs": [],
   "source": [
    "def determine_final_class(row):\n",
    "    classes = [row['bert_class1'], row['bert_class2'], row['bert_class3']]\n",
    "    # Count occurrences of each class\n",
    "    class_counts = pd.Series(classes).value_counts()\n",
    "    \n",
    "    # If the highest count is greater than 1, return that class (majority vote)\n",
    "    if class_counts.iloc[0] > 1:\n",
    "        return class_counts.idxmax()\n",
    "    else:\n",
    "        # If there's no majority, you can decide on a default or handle differently\n",
    "        return 'no consensus'"
   ]
  },
  {
   "cell_type": "code",
   "execution_count": 130,
   "id": "1cb59724",
   "metadata": {},
   "outputs": [
    {
     "data": {
      "text/plain": [
       "array(['neutral', 'negative', 'positive'], dtype=object)"
      ]
     },
     "execution_count": 130,
     "metadata": {},
     "output_type": "execute_result"
    }
   ],
   "source": [
    "df['llama_age_bert_class'] = df.apply(determine_final_class, axis=1)\n",
    "df['llama_age_bert_class'].unique()"
   ]
  },
  {
   "cell_type": "code",
   "execution_count": 131,
   "id": "af4df9ab",
   "metadata": {},
   "outputs": [],
   "source": [
    "df = df.drop(columns=['bert_class1', 'bert_class2', 'bert_class3'])"
   ]
  },
  {
   "cell_type": "code",
   "execution_count": 132,
   "id": "068ee4a3",
   "metadata": {},
   "outputs": [
    {
     "data": {
      "text/plain": [
       "Index(['id', 'author_id', 'in_reply_to_user_id', 'quoted_user_id',\n",
       "       'retweeted_user_id', 'text', 'public_metrics.like_count',\n",
       "       'public_metrics.quote_count', 'public_metrics.reply_count',\n",
       "       'public_metrics.retweet_count', 'entities.hashtags',\n",
       "       'entities.mentions', 'author.username', 'author.name',\n",
       "       'author.description', 'author.location',\n",
       "       'author.public_metrics.followers_count',\n",
       "       'author.public_metrics.following_count',\n",
       "       'author.public_metrics.tweet_count', 'url', 'link_text', 'party',\n",
       "       'name', 'Occupation(s)', 'Education', 'Residence[5]', 'gpt_sentiment',\n",
       "       'age', 'gender', 'bert_sentiment', 'no_polit', 'no_pol_gpt_label',\n",
       "       'no_polit_bert_class', 'llama_using', 'llama_arguing', 'llama_name',\n",
       "       'llama_gender', 'llama_edu', 'llama_age', 'llama_using_bert_class',\n",
       "       'llama_arguing_bert_class', 'llama_name_bert_class',\n",
       "       'llama_gender_bert_class', 'llama_edu_bert_class',\n",
       "       'llama_age_bert_class'],\n",
       "      dtype='object')"
      ]
     },
     "execution_count": 132,
     "metadata": {},
     "output_type": "execute_result"
    }
   ],
   "source": [
    "df.columns"
   ]
  },
  {
   "cell_type": "code",
   "execution_count": 133,
   "id": "0b9efa06",
   "metadata": {},
   "outputs": [],
   "source": [
    "# save\n",
    "df.to_csv('llama_full_merged.csv', index=False)\n",
    "df.to_excel('llama_full_merged.xlsx', index=False)"
   ]
  }
 ],
 "metadata": {
  "kernelspec": {
   "display_name": "Python 3 (ipykernel)",
   "language": "python",
   "name": "python3"
  },
  "language_info": {
   "codemirror_mode": {
    "name": "ipython",
    "version": 3
   },
   "file_extension": ".py",
   "mimetype": "text/x-python",
   "name": "python",
   "nbconvert_exporter": "python",
   "pygments_lexer": "ipython3",
   "version": "3.11.5"
  }
 },
 "nbformat": 4,
 "nbformat_minor": 5
}
