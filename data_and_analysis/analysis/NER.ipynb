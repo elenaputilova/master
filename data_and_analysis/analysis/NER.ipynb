{
 "cells": [
  {
   "cell_type": "code",
   "execution_count": 12,
   "id": "72a35210",
   "metadata": {},
   "outputs": [],
   "source": [
    "import pandas as pd\n",
    "import spacy\n",
    "from collections import Counter\n",
    "from tqdm import tqdm\n",
    "nlp = spacy.load('en_core_web_sm')"
   ]
  },
  {
   "cell_type": "code",
   "execution_count": 3,
   "id": "93da6224",
   "metadata": {},
   "outputs": [],
   "source": [
    "gpt4 = pd.read_csv('gpt4_full_merged.csv')\n",
    "gpt4 = gpt4[(gpt4['gpt4_simple'].str.len() >246) & (gpt4['gpt4_simple'].str.len() < 322)]\n",
    "\n",
    "gpt3 = pd.read_csv('gpt3_full_merged.csv')\n",
    "gpt3 = gpt3[(gpt3['gpt3_simple'].str.len() > 178) & (gpt3['gpt3_simple'].str.len() < 342)]\n",
    "\n",
    "llama = pd.read_csv('llama/sample.csv')\n",
    "llama = llama[(llama['llama_simple'].str.len() >33) & (llama['llama_simple'].str.len() < 535)]\n",
    "llama = llama[llama['llama_simple'].notna()]\n",
    "\n",
    "mistral = pd.read_csv('mistral_merged.csv')\n",
    "mistral = mistral[(mistral['mistral_simple'].str.len() > 136) & (mistral['mistral_simple'].str.len() < 532)]\n",
    "mistral = mistral[mistral['mistral_simple'].notna()]"
   ]
  },
  {
   "cell_type": "code",
   "execution_count": 13,
   "id": "8acf5a7f",
   "metadata": {},
   "outputs": [],
   "source": [
    "# Function to extract named entities\n",
    "def extract_entities(text):\n",
    "    doc = nlp(text)\n",
    "    entities = [(ent.text, ent.label_) for ent in doc.ents]\n",
    "    return entities"
   ]
  },
  {
   "cell_type": "markdown",
   "id": "c2862f7e",
   "metadata": {},
   "source": [
    "## Original tweets"
   ]
  },
  {
   "cell_type": "code",
   "execution_count": 11,
   "id": "411ea7e8",
   "metadata": {},
   "outputs": [
    {
     "name": "stdout",
     "output_type": "stream",
     "text": [
      "Trump: 575\n",
      "Americans: 418\n",
      "Senate: 401\n",
      "American: 401\n",
      "\\nhttps://t.co: 400\n",
      "#: 318\n",
      "Congress: 286\n",
      "America: 276\n",
      "Biden: 276\n",
      "U.S.: 238\n",
      "Democrats: 213\n",
      "first: 207\n",
      "today: 205\n",
      "Republicans: 191\n",
      "China: 185\n",
      "one: 144\n",
      "GOP: 138\n",
      "COVID-19: 133\n",
      "US: 132\n",
      "millions: 114\n",
      "Republican: 105\n",
      "House: 91\n",
      "Washington: 87\n",
      "Texas: 86\n",
      "Russia: 84\n",
      "Today: 83\n",
      "Iran: 71\n",
      "Hawley: 70\n",
      "@POTUS: 67\n",
      "Michigan: 65\n"
     ]
    }
   ],
   "source": [
    "# Apply the function to the dataframe to extract entities\n",
    "gpt4['entities'] = gpt4['text'].apply(extract_entities)\n",
    "\n",
    "# Extract the text of entities for frequency counting\n",
    "all_entities = []\n",
    "for tweet_entities in gpt4['entities']:\n",
    "    all_entities.extend([entity[0] for entity in tweet_entities])  # Extract only entity text\n",
    "\n",
    "# Count the frequency of each entity\n",
    "entity_counts = Counter(all_entities)\n",
    "\n",
    "# Sort entities by frequency\n",
    "sorted_entities = sorted(entity_counts.items(), key=lambda x: x[1], reverse=True)\n",
    "\n",
    "# Print the most frequent entities\n",
    "for entity, count in sorted_entities[:30]:\n",
    "    print(f\"{entity}: {count}\")\n"
   ]
  },
  {
   "cell_type": "code",
   "execution_count": 4,
   "id": "8e674dbf",
   "metadata": {},
   "outputs": [],
   "source": [
    "# Function to extract named entities\n",
    "def extract_entities(text):\n",
    "    doc = nlp(text)\n",
    "    entities = [(ent.text, ent.label_) for ent in doc.ents]\n",
    "    return entities\n",
    "\n",
    "# Extract entities from each tweet\n",
    "def extract_entities(entities_list):\n",
    "    entities = [entity[0] for entity in entities_list]  # Extracting only the entity text\n",
    "    return entities"
   ]
  },
  {
   "cell_type": "markdown",
   "id": "f9d0a322",
   "metadata": {},
   "source": [
    "### GPT-4"
   ]
  },
  {
   "cell_type": "code",
   "execution_count": 17,
   "id": "6afb0eb0",
   "metadata": {},
   "outputs": [
    {
     "name": "stderr",
     "output_type": "stream",
     "text": [
      "100%|██████████████████████████████████████| 9337/9337 [01:18<00:00, 118.47it/s]\n",
      "Extracting entities: 100%|█████████████| 9337/9337 [00:00<00:00, 2323615.55it/s]"
     ]
    },
    {
     "name": "stdout",
     "output_type": "stream",
     "text": [
      "#: 1850\n",
      "Americans: 1132\n",
      "Trump: 1106\n",
      "American: 1035\n",
      "GOP: 741\n",
      "America: 700\n",
      "Biden: 623\n",
      "Democrats: 444\n",
      "COVID-19: 364\n",
      "Congress: 316\n",
      "U.S.: 315\n",
      "Senate: 309\n",
      "millions: 258\n",
      "China: 247\n",
      "first: 247\n",
      "Republicans: 178\n",
      "ACA: 176\n",
      "’s: 171\n",
      "Obama: 151\n",
      "AmericaFirst: 132\n",
      "Russia: 131\n",
      "Iran: 127\n",
      "Ukraine: 116\n",
      "US: 109\n",
      "Dems: 106\n",
      "Proud: 99\n",
      "Texas: 99\n",
      "House: 97\n",
      "today: 90\n",
      "Constitution: 89\n"
     ]
    },
    {
     "name": "stderr",
     "output_type": "stream",
     "text": [
      "\n"
     ]
    }
   ],
   "source": [
    "# Apply the function to the DataFrame with a progress bar\n",
    "gpt4['gpt4_entities'] = gpt4['gpt4_simple'].progress_apply(extract_entities)  # Use progress_apply()\n",
    "\n",
    "# Extract the text of entities for frequency counting\n",
    "all_entities = []\n",
    "for tweet_entities in tqdm(gpt4['gpt4_entities'], desc='Extracting entities'):\n",
    "    all_entities.extend([entity[0] for entity in tweet_entities])  # Extract only entity text\n",
    "\n",
    "# Count the frequency of each entity\n",
    "entity_counts = Counter(all_entities)\n",
    "\n",
    "# Sort entities by frequency\n",
    "sorted_entities = sorted(entity_counts.items(), key=lambda x: x[1], reverse=True)\n",
    "\n",
    "# Print the most frequent entities\n",
    "for entity, count in sorted_entities[:30]:\n",
    "    print(f\"{entity}: {count}\")"
   ]
  },
  {
   "cell_type": "markdown",
   "id": "b5165d25",
   "metadata": {},
   "source": [
    "### GPT-3.5"
   ]
  },
  {
   "cell_type": "code",
   "execution_count": 20,
   "id": "96716965",
   "metadata": {},
   "outputs": [
    {
     "name": "stderr",
     "output_type": "stream",
     "text": [
      "100%|██████████████████████████████████████| 9725/9725 [01:14<00:00, 131.24it/s]\n",
      "Extracting entities: 100%|█████████████| 9725/9725 [00:00<00:00, 2978430.55it/s]"
     ]
    },
    {
     "name": "stdout",
     "output_type": "stream",
     "text": [
      "#: 2809\n",
      "Trump: 1139\n",
      "Americans: 989\n",
      "American: 983\n",
      "Democrat: 881\n",
      "Democrats: 851\n",
      "GOP: 626\n",
      "Biden: 603\n",
      "Senate: 380\n",
      "Congress: 365\n",
      "Republican: 349\n",
      "America: 307\n",
      "Republicans: 302\n",
      "China: 268\n",
      "COVID-19: 256\n",
      "US: 250\n",
      "U.S.: 247\n",
      "first: 214\n",
      "millions: 183\n",
      "Russia: 166\n",
      "#GOP: 135\n",
      "Obama: 129\n",
      "Iran: 123\n",
      "Ukraine: 117\n",
      "the Democrat party: 115\n",
      "Texas: 113\n",
      "#COVID19: 112\n",
      "AmericaFirst: 104\n",
      "ACA: 100\n",
      "House: 96\n"
     ]
    },
    {
     "name": "stderr",
     "output_type": "stream",
     "text": [
      "\n"
     ]
    }
   ],
   "source": [
    "# Apply the function to the DataFrame with a progress bar\n",
    "gpt3['gpt3_entities'] = gpt3['gpt3_simple'].progress_apply(extract_entities)  # Use progress_apply()\n",
    "\n",
    "# Extract the text of entities for frequency counting\n",
    "all_entities = []\n",
    "for tweet_entities in tqdm(gpt3['gpt3_entities'], desc='Extracting entities'):\n",
    "    all_entities.extend([entity[0] for entity in tweet_entities])  # Extract only entity text\n",
    "\n",
    "# Count the frequency of each entity\n",
    "entity_counts = Counter(all_entities)\n",
    "\n",
    "# Sort entities by frequency\n",
    "sorted_entities = sorted(entity_counts.items(), key=lambda x: x[1], reverse=True)\n",
    "\n",
    "# Print the most frequent entities\n",
    "for entity, count in sorted_entities[:30]:\n",
    "    print(f\"{entity}: {count}\")"
   ]
  },
  {
   "cell_type": "markdown",
   "id": "14f45409",
   "metadata": {},
   "source": [
    "### Llama"
   ]
  },
  {
   "cell_type": "code",
   "execution_count": 23,
   "id": "73565944",
   "metadata": {},
   "outputs": [
    {
     "name": "stderr",
     "output_type": "stream",
     "text": [
      "100%|██████████████████████████████████████| 8061/8061 [01:00<00:00, 132.60it/s]\n",
      "Extracting entities: 100%|█████████████| 8061/8061 [00:00<00:00, 2731702.72it/s]"
     ]
    },
    {
     "name": "stdout",
     "output_type": "stream",
     "text": [
      "#: 1184\n",
      "American: 621\n",
      "Americans: 575\n",
      "Trump: 551\n",
      "America: 367\n",
      "Democrat: 311\n",
      "US: 304\n",
      "Senate: 269\n",
      "MAGA: 220\n",
      "GOP: 217\n",
      "China: 207\n",
      "Democrats: 196\n",
      "Congress: 192\n",
      "first: 165\n",
      "@POTUS: 154\n",
      "@realDonaldTrump: 144\n",
      "Republicans: 140\n",
      "Biden: 133\n",
      "COVID-19: 126\n",
      "Russia: 120\n",
      "Republican: 118\n",
      "millions: 112\n",
      "Today: 99\n",
      "one: 90\n",
      "U.S.: 85\n",
      "Proud: 81\n",
      "Obama: 80\n",
      "Ukraine: 78\n",
      "Iran: 78\n",
      "today: 76\n"
     ]
    },
    {
     "name": "stderr",
     "output_type": "stream",
     "text": [
      "\n"
     ]
    }
   ],
   "source": [
    "# Apply the function to the DataFrame with a progress bar\n",
    "llama['llama_entities'] = llama['llama_simple'].progress_apply(extract_entities)  # Use progress_apply()\n",
    "\n",
    "# Extract the text of entities for frequency counting\n",
    "all_entities = []\n",
    "for tweet_entities in tqdm(llama['llama_entities'], desc='Extracting entities'):\n",
    "    all_entities.extend([entity[0] for entity in tweet_entities])  # Extract only entity text\n",
    "\n",
    "# Count the frequency of each entity\n",
    "entity_counts = Counter(all_entities)\n",
    "\n",
    "# Sort entities by frequency\n",
    "sorted_entities = sorted(entity_counts.items(), key=lambda x: x[1], reverse=True)\n",
    "\n",
    "# Print the most frequent entities\n",
    "for entity, count in sorted_entities[:30]:\n",
    "    print(f\"{entity}: {count}\")"
   ]
  },
  {
   "cell_type": "markdown",
   "id": "a3f256b6",
   "metadata": {},
   "source": [
    "### Mistral"
   ]
  },
  {
   "cell_type": "code",
   "execution_count": 24,
   "id": "87cba82f",
   "metadata": {},
   "outputs": [
    {
     "name": "stderr",
     "output_type": "stream",
     "text": [
      "100%|██████████████████████████████████████| 9431/9431 [01:31<00:00, 102.75it/s]\n",
      "Extracting entities: 100%|█████████████| 9431/9431 [00:00<00:00, 2113172.77it/s]"
     ]
    },
    {
     "name": "stdout",
     "output_type": "stream",
     "text": [
      "#: 2940\n",
      "American: 753\n",
      "Americans: 687\n",
      "Trump: 629\n",
      "Senate: 495\n",
      "Democrats: 491\n",
      "US: 477\n",
      "Congress: 413\n",
      "Republican: 394\n",
      "Democrat: 388\n",
      "Biden: 344\n",
      "GOP: 328\n",
      "U.S.: 327\n",
      "Republicans: 312\n",
      "Trumps: 253\n",
      "first: 251\n",
      "China: 231\n",
      "COVID-19: 221\n",
      "millions: 206\n",
      "America: 194\n",
      "Democratic: 187\n",
      "House: 165\n",
      "Russia: 161\n",
      "Twitter: 158\n",
      "Bidens: 144\n",
      "Russian: 125\n",
      "one: 119\n",
      "Iran: 118\n",
      "Ukraine: 114\n",
      "ACA: 111\n"
     ]
    },
    {
     "name": "stderr",
     "output_type": "stream",
     "text": [
      "\n"
     ]
    }
   ],
   "source": [
    "# Apply the function to the DataFrame with a progress bar\n",
    "mistral['mistral_entities'] = mistral['mistral_simple'].progress_apply(extract_entities)  # Use progress_apply()\n",
    "\n",
    "# Extract the text of entities for frequency counting\n",
    "all_entities = []\n",
    "for tweet_entities in tqdm(mistral['mistral_entities'], desc='Extracting entities'):\n",
    "    all_entities.extend([entity[0] for entity in tweet_entities])  # Extract only entity text\n",
    "\n",
    "# Count the frequency of each entity\n",
    "entity_counts = Counter(all_entities)\n",
    "\n",
    "# Sort entities by frequency\n",
    "sorted_entities = sorted(entity_counts.items(), key=lambda x: x[1], reverse=True)\n",
    "\n",
    "# Print the most frequent entities\n",
    "for entity, count in sorted_entities[:30]:\n",
    "    print(f\"{entity}: {count}\")"
   ]
  },
  {
   "cell_type": "code",
   "execution_count": 27,
   "id": "bb930080",
   "metadata": {},
   "outputs": [
    {
     "data": {
      "image/png": "[encoded data removed]",
      "text/plain": [
       "<Figure size 1200x800 with 2 Axes>"
      ]
     },
     "metadata": {},
     "output_type": "display_data"
    }
   ],
   "source": [
    "import pandas as pd\n",
    "import matplotlib.pyplot as plt\n",
    "import seaborn as sns\n",
    "\n",
    "# Named entities data for each model\n",
    "data = {\n",
    "    'Original': {\n",
    "        'Trump': 575, 'Americans': 418, 'Senate': 401, 'American': 401, 'Congress': 286, 'Biden': 276, \n",
    "        'Democrats': 213, 'Republicans': 191, 'China': 185, 'COVID-19': 133, 'US': 132, 'House': 91, \n",
    "        'Russia': 84, 'Iran': 71\n",
    "    },\n",
    "    'GPT-4': {\n",
    "        'Trump': 1106, 'Americans': 1132, 'Senate': 309, 'American': 1035, 'Congress': 316, 'Biden': 623, \n",
    "        'Democrats': 444, 'Republicans': 178, 'China': 247, 'COVID-19': 364, 'US': 109, 'House': 97, \n",
    "        'Russia': 131, 'Iran': 127\n",
    "    },\n",
    "    'GPT-3.5': {\n",
    "        'Trump': 1139, 'Americans': 989, 'Senate': 380, 'American': 983, 'Congress': 365, 'Biden': 603, \n",
    "        'Democrats': 851, 'Republicans': 302, 'China': 268, 'COVID-19': 256, 'US': 250, 'House': 96, \n",
    "        'Russia': 166, 'Iran': 123\n",
    "    },\n",
    "    'Llama': {\n",
    "        'Trump': 551, 'Americans': 575, 'Senate': 269, 'American': 621, 'Congress': 192, 'Biden': 133, \n",
    "        'Democrats': 196, 'Republicans': 140, 'China': 207, 'COVID-19': 126, 'US': 304, 'House': 96, \n",
    "        'Russia': 120, 'Iran': 78\n",
    "    },\n",
    "    'Mistral': {\n",
    "        'Trump': 629, 'Americans': 687, 'Senate': 495, 'American': 753, 'Congress': 413, 'Biden': 344, \n",
    "        'Democrats': 491, 'Republicans': 312, 'China': 231, 'COVID-19': 221, 'US': 477, 'House': 165, \n",
    "        'Russia': 161, 'Iran': 118\n",
    "    }\n",
    "}\n",
    "\n",
    "# Find the common entities across all models\n",
    "common_entities = set(data['Original'].keys())\n",
    "for model_data in data.values():\n",
    "    common_entities.intersection_update(model_data.keys())\n",
    "\n",
    "# Create a dictionary of common entities for the DataFrame\n",
    "df_data = {model: {entity: data[model][entity] for entity in common_entities} for model in data.keys()}\n",
    "\n",
    "# Create DataFrame\n",
    "df = pd.DataFrame(df_data)\n",
    "\n",
    "# Create the heatmap\n",
    "plt.figure(figsize=(12, 8))\n",
    "sns.heatmap(df, annot=True, fmt='d', cmap='YlGnBu')  # annot=True to display values, fmt='d' to format as integers\n",
    "#plt.title('Named Entity Recognition Heatmap')\n",
    "plt.xlabel('Model')\n",
    "plt.ylabel('Named Entity')\n",
    "plt.show()\n"
   ]
  },
  {
   "cell_type": "code",
   "execution_count": null,
   "id": "938511c2",
   "metadata": {},
   "outputs": [],
   "source": []
  }
 ],
 "metadata": {
  "kernelspec": {
   "display_name": "Python 3 (ipykernel)",
   "language": "python",
   "name": "python3"
  },
  "language_info": {
   "codemirror_mode": {
    "name": "ipython",
    "version": 3
   },
   "file_extension": ".py",
   "mimetype": "text/x-python",
   "name": "python",
   "nbconvert_exporter": "python",
   "pygments_lexer": "ipython3",
   "version": "3.11.5"
  }
 },
 "nbformat": 4,
 "nbformat_minor": 5
}
